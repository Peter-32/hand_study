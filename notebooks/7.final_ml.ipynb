{
 "cells": [
  {
   "cell_type": "code",
   "execution_count": 1,
   "metadata": {},
   "outputs": [
    {
     "name": "stderr",
     "output_type": "stream",
     "text": [
      "/Users/petermyers/Desktop/Code/commons/venv/lib/python3.6/site-packages/sklearn/externals/six.py:31: DeprecationWarning: The module is deprecated in version 0.21 and will be removed in version 0.23 since we've dropped support for Python 2.7. Please rely on the official version of six (https://pypi.org/project/six/).\n",
      "  \"(https://pypi.org/project/six/).\", DeprecationWarning)\n",
      "/Users/petermyers/Desktop/Code/commons/venv/lib/python3.6/site-packages/lightgbm/__init__.py:46: UserWarning: Starting from version 2.2.1, the library file in distribution wheels for macOS is built by the Apple Clang (Xcode_8.3.3) compiler.\n",
      "This means that in case of installing LightGBM from PyPI via the ``pip install lightgbm`` command, you don't need to install the gcc compiler anymore.\n",
      "Instead of that, you need to install the OpenMP library, which is required for running LightGBM on the system with the Apple Clang compiler.\n",
      "You can install the OpenMP library by the following command: ``brew install libomp``.\n",
      "  \"You can install the OpenMP library by the following command: ``brew install libomp``.\", UserWarning)\n"
     ]
    }
   ],
   "source": [
    "%matplotlib inline\n",
    "from sklearn.model_selection import train_test_split\n",
    "from xgboost import XGBClassifier, plot_tree\n",
    "from sklearn.preprocessing import StandardScaler\n",
    "from sklearn.metrics import accuracy_score, confusion_matrix, roc_auc_score, precision_recall_curve, auc, f1_score, log_loss, precision_score\n",
    "from pandas import DataFrame, concat\n",
    "from numpy.random import seed\n",
    "from imblearn.over_sampling import SMOTE\n",
    "from sklearn.feature_selection import SelectKBest, chi2, f_classif\n",
    "from sklearn.decomposition import PCA\n",
    "from catboost import CatBoostRegressor\n",
    "from catboost import Pool\n",
    "from graphviz import Source\n",
    "from sklearn.tree import export_graphviz\n",
    "from sklearn.preprocessing import PolynomialFeatures\n",
    "import shap\n",
    "import datetime\n",
    "import matplotlib.pyplot as plt\n",
    "from numpy import max\n",
    "from pandasql import sqldf\n",
    "from sklearn.metrics import roc_curve\n",
    "import numpy as np\n",
    "import pandas as pd\n",
    "experiment_model = CatBoostRegressor()\n",
    "df = pd.read_csv(\"../data/interim/train.csv\")\n",
    "# df = pd.read_csv(\"../data/raw/1.csv\")\n"
   ]
  },
  {
   "cell_type": "code",
   "execution_count": 7,
   "metadata": {},
   "outputs": [
    {
     "data": {
      "image/png": "[encoded data removed]",
      "text/plain": [
       "<Figure size 864x504 with 1 Axes>"
      ]
     },
     "metadata": {
      "needs_background": "light"
     },
     "output_type": "display_data"
    }
   ],
   "source": [
    "seed(42)\n",
    "temp_df = df.copy()\n",
    "temp_df = temp_df[[\"bluff_code\", \"target\"]]\n",
    "# temp_df = df.sample(100000)\n",
    "# temp_df = df[df[\"position\"] == \"BN RFI\"]\n",
    "# X = temp_df.drop([\"target\", \"position\"], axis=1)\n",
    "X = temp_df.drop([\"target\"], axis=1)\n",
    "y = temp_df[[\"target\"]]\n",
    "\n",
    "\n",
    "# X = X[important_columns]\n",
    "cat_features = []\n",
    "\n",
    "# Get shap dataframes\n",
    "X = DataFrame(X, columns=X.columns)\n",
    "\n",
    "# Fit the model on the training set\n",
    "experiment_model.fit(X, y, cat_features=cat_features, logging_level='Silent')\n",
    "\n",
    "feature_score = pd.DataFrame(list(zip(X.dtypes.index, experiment_model.get_feature_importance(Pool(X, label=y, cat_features=cat_features)))),\n",
    "                columns=['Feature','Score'])\n",
    "\n",
    "feature_score = feature_score.sort_values(by='Score', ascending=False, inplace=False, kind='quicksort', na_position='last')\n",
    "\n",
    "plt.rcParams[\"figure.figsize\"] = (12,7)\n",
    "ax = feature_score.plot('Feature', 'Score', kind='bar', color='c')\n",
    "ax.set_title(\"Catboost Feature Importance Ranking\", fontsize = 14)\n",
    "ax.set_xlabel('')\n",
    "\n",
    "rects = ax.patches\n",
    "\n",
    "labels = feature_score['Score'].round(2)\n",
    "\n",
    "for rect, label in zip(rects, labels):\n",
    "    height = rect.get_height()\n",
    "    ax.text(rect.get_x() + rect.get_width()/2, height + 0.35, label, ha='center', va='bottom')\n",
    "\n",
    "plt.show()\n"
   ]
  },
  {
   "cell_type": "code",
   "execution_count": 8,
   "metadata": {},
   "outputs": [
    {
     "name": "stdout",
     "output_type": "stream",
     "text": [
      "2.94330940990733\n"
     ]
    }
   ],
   "source": [
    "pred_y = experiment_model.predict(X)\n",
    "from sklearn.metrics import mean_squared_error\n",
    "score = np.sqrt(mean_squared_error(pred_y, y))\n",
    "print(score)"
   ]
  },
  {
   "cell_type": "code",
   "execution_count": 5,
   "metadata": {},
   "outputs": [
    {
     "name": "stdout",
     "output_type": "stream",
     "text": [
      "important_columns: ['position', 'is_bb', 'rank1', 'rank2']\n"
     ]
    }
   ],
   "source": [
    "# Get important columns\n",
    "importance_threshold = 7\n",
    "important_columns = []\n",
    "for i, x in zip((feature_score['Score'].round(2) > importance_threshold).index, (feature_score['Score'].round(2) > importance_threshold)):\n",
    "    if x:\n",
    "        important_columns.append(X.columns[i])\n",
    "print(\"important_columns:\", important_columns)\n"
   ]
  },
  {
   "cell_type": "code",
   "execution_count": 6,
   "metadata": {
    "scrolled": true
   },
   "outputs": [
    {
     "ename": "CatBoostError",
     "evalue": "Bad value for num_feature[0,5]=\"CO RFI\": Cannot convert 'b'CO RFI'' to float",
     "output_type": "error",
     "traceback": [
      "\u001b[0;31m---------------------------------------------------------------------------\u001b[0m",
      "\u001b[0;31mTypeError\u001b[0m                                 Traceback (most recent call last)",
      "\u001b[0;32m_catboost.pyx\u001b[0m in \u001b[0;36m_catboost.get_float_feature\u001b[0;34m()\u001b[0m\n",
      "\u001b[0;32m_catboost.pyx\u001b[0m in \u001b[0;36m_catboost._FloatOrNan\u001b[0;34m()\u001b[0m\n",
      "\u001b[0;32m_catboost.pyx\u001b[0m in \u001b[0;36m_catboost._FloatOrNanFromString\u001b[0;34m()\u001b[0m\n",
      "\u001b[0;31mTypeError\u001b[0m: Cannot convert 'b'CO RFI'' to float",
      "\nDuring handling of the above exception, another exception occurred:\n",
      "\u001b[0;31mCatBoostError\u001b[0m                             Traceback (most recent call last)",
      "\u001b[0;32m<ipython-input-6-80a3839a5199>\u001b[0m in \u001b[0;36m<module>\u001b[0;34m\u001b[0m\n\u001b[1;32m     20\u001b[0m \u001b[0;34m\u001b[0m\u001b[0m\n\u001b[1;32m     21\u001b[0m \u001b[0;31m# shap values\u001b[0m\u001b[0;34m\u001b[0m\u001b[0;34m\u001b[0m\u001b[0m\n\u001b[0;32m---> 22\u001b[0;31m \u001b[0mshap_values\u001b[0m \u001b[0;34m=\u001b[0m \u001b[0mshap\u001b[0m\u001b[0;34m.\u001b[0m\u001b[0mTreeExplainer\u001b[0m\u001b[0;34m(\u001b[0m\u001b[0mexperiment_model\u001b[0m\u001b[0;34m)\u001b[0m\u001b[0;34m.\u001b[0m\u001b[0mshap_values\u001b[0m\u001b[0;34m(\u001b[0m\u001b[0mX\u001b[0m\u001b[0;34m[\u001b[0m\u001b[0;36m0\u001b[0m\u001b[0;34m:\u001b[0m\u001b[0;36m10000\u001b[0m\u001b[0;34m]\u001b[0m\u001b[0;34m)\u001b[0m\u001b[0;34m\u001b[0m\u001b[0m\n\u001b[0m\u001b[1;32m     23\u001b[0m \u001b[0;34m\u001b[0m\u001b[0m\n\u001b[1;32m     24\u001b[0m \u001b[0msorted_feature_importance\u001b[0m \u001b[0;34m=\u001b[0m \u001b[0mpd\u001b[0m\u001b[0;34m.\u001b[0m\u001b[0mDataFrame\u001b[0m\u001b[0;34m(\u001b[0m\u001b[0mshap_values\u001b[0m\u001b[0;34m,\u001b[0m \u001b[0mcolumns\u001b[0m\u001b[0;34m=\u001b[0m\u001b[0mX\u001b[0m\u001b[0;34m.\u001b[0m\u001b[0mcolumns\u001b[0m\u001b[0;34m)\u001b[0m\u001b[0;34m.\u001b[0m\u001b[0mabs\u001b[0m\u001b[0;34m(\u001b[0m\u001b[0;34m)\u001b[0m\u001b[0;34m.\u001b[0m\u001b[0msum\u001b[0m\u001b[0;34m(\u001b[0m\u001b[0;34m)\u001b[0m\u001b[0;34m.\u001b[0m\u001b[0msort_values\u001b[0m\u001b[0;34m(\u001b[0m\u001b[0mascending\u001b[0m\u001b[0;34m=\u001b[0m\u001b[0;32mFalse\u001b[0m\u001b[0;34m)\u001b[0m\u001b[0;34m\u001b[0m\u001b[0m\n",
      "\u001b[0;32m~/Desktop/Code/commons/venv/lib/python3.6/site-packages/shap/explainers/tree.py\u001b[0m in \u001b[0;36mshap_values\u001b[0;34m(self, X, y, tree_limit, approximate)\u001b[0m\n\u001b[1;32m    189\u001b[0m                 \u001b[0;32massert\u001b[0m \u001b[0mtree_limit\u001b[0m \u001b[0;34m==\u001b[0m \u001b[0;34m-\u001b[0m\u001b[0;36m1\u001b[0m\u001b[0;34m,\u001b[0m \u001b[0;34m\"tree_limit is not yet supported for CatBoost models!\"\u001b[0m\u001b[0;34m\u001b[0m\u001b[0m\n\u001b[1;32m    190\u001b[0m                 \u001b[0;32mif\u001b[0m \u001b[0mtype\u001b[0m\u001b[0;34m(\u001b[0m\u001b[0mX\u001b[0m\u001b[0;34m)\u001b[0m \u001b[0;34m!=\u001b[0m \u001b[0mcatboost\u001b[0m\u001b[0;34m.\u001b[0m\u001b[0mPool\u001b[0m\u001b[0;34m:\u001b[0m\u001b[0;34m\u001b[0m\u001b[0m\n\u001b[0;32m--> 191\u001b[0;31m                     \u001b[0mX\u001b[0m \u001b[0;34m=\u001b[0m \u001b[0mcatboost\u001b[0m\u001b[0;34m.\u001b[0m\u001b[0mPool\u001b[0m\u001b[0;34m(\u001b[0m\u001b[0mX\u001b[0m\u001b[0;34m)\u001b[0m\u001b[0;34m\u001b[0m\u001b[0m\n\u001b[0m\u001b[1;32m    192\u001b[0m                 \u001b[0mphi\u001b[0m \u001b[0;34m=\u001b[0m \u001b[0mself\u001b[0m\u001b[0;34m.\u001b[0m\u001b[0mtrees\u001b[0m\u001b[0;34m.\u001b[0m\u001b[0mget_feature_importance\u001b[0m\u001b[0;34m(\u001b[0m\u001b[0mdata\u001b[0m\u001b[0;34m=\u001b[0m\u001b[0mX\u001b[0m\u001b[0;34m,\u001b[0m \u001b[0mfstr_type\u001b[0m\u001b[0;34m=\u001b[0m\u001b[0;34m'ShapValues'\u001b[0m\u001b[0;34m)\u001b[0m\u001b[0;34m\u001b[0m\u001b[0m\n\u001b[1;32m    193\u001b[0m \u001b[0;34m\u001b[0m\u001b[0m\n",
      "\u001b[0;32m~/Desktop/Code/commons/venv/lib/python3.6/site-packages/catboost/core.py\u001b[0m in \u001b[0;36m__init__\u001b[0;34m(self, data, label, cat_features, column_description, pairs, delimiter, has_header, weight, group_id, group_weight, subgroup_id, pairs_weight, baseline, feature_names, thread_count)\u001b[0m\n\u001b[1;32m    289\u001b[0m                         )\n\u001b[1;32m    290\u001b[0m \u001b[0;34m\u001b[0m\u001b[0m\n\u001b[0;32m--> 291\u001b[0;31m                 \u001b[0mself\u001b[0m\u001b[0;34m.\u001b[0m\u001b[0m_init\u001b[0m\u001b[0;34m(\u001b[0m\u001b[0mdata\u001b[0m\u001b[0;34m,\u001b[0m \u001b[0mlabel\u001b[0m\u001b[0;34m,\u001b[0m \u001b[0mcat_features\u001b[0m\u001b[0;34m,\u001b[0m \u001b[0mpairs\u001b[0m\u001b[0;34m,\u001b[0m \u001b[0mweight\u001b[0m\u001b[0;34m,\u001b[0m \u001b[0mgroup_id\u001b[0m\u001b[0;34m,\u001b[0m \u001b[0mgroup_weight\u001b[0m\u001b[0;34m,\u001b[0m \u001b[0msubgroup_id\u001b[0m\u001b[0;34m,\u001b[0m \u001b[0mpairs_weight\u001b[0m\u001b[0;34m,\u001b[0m \u001b[0mbaseline\u001b[0m\u001b[0;34m,\u001b[0m \u001b[0mfeature_names\u001b[0m\u001b[0;34m)\u001b[0m\u001b[0;34m\u001b[0m\u001b[0m\n\u001b[0m\u001b[1;32m    292\u001b[0m         \u001b[0msuper\u001b[0m\u001b[0;34m(\u001b[0m\u001b[0mPool\u001b[0m\u001b[0;34m,\u001b[0m \u001b[0mself\u001b[0m\u001b[0;34m)\u001b[0m\u001b[0;34m.\u001b[0m\u001b[0m__init__\u001b[0m\u001b[0;34m(\u001b[0m\u001b[0;34m)\u001b[0m\u001b[0;34m\u001b[0m\u001b[0m\n\u001b[1;32m    293\u001b[0m \u001b[0;34m\u001b[0m\u001b[0m\n",
      "\u001b[0;32m~/Desktop/Code/commons/venv/lib/python3.6/site-packages/catboost/core.py\u001b[0m in \u001b[0;36m_init\u001b[0;34m(self, data, label, cat_features, pairs, weight, group_id, group_weight, subgroup_id, pairs_weight, baseline, feature_names)\u001b[0m\n\u001b[1;32m    644\u001b[0m         \u001b[0;32mif\u001b[0m \u001b[0mfeature_names\u001b[0m \u001b[0;32mis\u001b[0m \u001b[0;32mnot\u001b[0m \u001b[0;32mNone\u001b[0m\u001b[0;34m:\u001b[0m\u001b[0;34m\u001b[0m\u001b[0m\n\u001b[1;32m    645\u001b[0m             \u001b[0mself\u001b[0m\u001b[0;34m.\u001b[0m\u001b[0m_check_feature_names\u001b[0m\u001b[0;34m(\u001b[0m\u001b[0mfeature_names\u001b[0m\u001b[0;34m,\u001b[0m \u001b[0mfeatures_count\u001b[0m\u001b[0;34m)\u001b[0m\u001b[0;34m\u001b[0m\u001b[0m\n\u001b[0;32m--> 646\u001b[0;31m         \u001b[0mself\u001b[0m\u001b[0;34m.\u001b[0m\u001b[0m_init_pool\u001b[0m\u001b[0;34m(\u001b[0m\u001b[0mdata\u001b[0m\u001b[0;34m,\u001b[0m \u001b[0mlabel\u001b[0m\u001b[0;34m,\u001b[0m \u001b[0mcat_features\u001b[0m\u001b[0;34m,\u001b[0m \u001b[0mpairs\u001b[0m\u001b[0;34m,\u001b[0m \u001b[0mweight\u001b[0m\u001b[0;34m,\u001b[0m \u001b[0mgroup_id\u001b[0m\u001b[0;34m,\u001b[0m \u001b[0mgroup_weight\u001b[0m\u001b[0;34m,\u001b[0m \u001b[0msubgroup_id\u001b[0m\u001b[0;34m,\u001b[0m \u001b[0mpairs_weight\u001b[0m\u001b[0;34m,\u001b[0m \u001b[0mbaseline\u001b[0m\u001b[0;34m,\u001b[0m \u001b[0mfeature_names\u001b[0m\u001b[0;34m)\u001b[0m\u001b[0;34m\u001b[0m\u001b[0m\n\u001b[0m\u001b[1;32m    647\u001b[0m \u001b[0;34m\u001b[0m\u001b[0m\n\u001b[1;32m    648\u001b[0m \u001b[0;34m\u001b[0m\u001b[0m\n",
      "\u001b[0;32m_catboost.pyx\u001b[0m in \u001b[0;36m_catboost._PoolBase._init_pool\u001b[0;34m()\u001b[0m\n",
      "\u001b[0;32m_catboost.pyx\u001b[0m in \u001b[0;36m_catboost._PoolBase._init_pool\u001b[0;34m()\u001b[0m\n",
      "\u001b[0;32m_catboost.pyx\u001b[0m in \u001b[0;36m_catboost._PoolBase._init_features_order_layout_pool\u001b[0;34m()\u001b[0m\n",
      "\u001b[0;32m_catboost.pyx\u001b[0m in \u001b[0;36m_catboost._set_features_order_data_pd_data_frame\u001b[0;34m()\u001b[0m\n",
      "\u001b[0;32m_catboost.pyx\u001b[0m in \u001b[0;36m_catboost.create_num_factor_data\u001b[0;34m()\u001b[0m\n",
      "\u001b[0;32m_catboost.pyx\u001b[0m in \u001b[0;36m_catboost.get_float_feature\u001b[0;34m()\u001b[0m\n",
      "\u001b[0;31mCatBoostError\u001b[0m: Bad value for num_feature[0,5]=\"CO RFI\": Cannot convert 'b'CO RFI'' to float"
     ]
    }
   ],
   "source": [
    "import numpy as np\n",
    "from pandas import read_csv\n",
    "from numpy.random import seed\n",
    "from sklearn.pipeline import Pipeline, FeatureUnion\n",
    "from sklearn.preprocessing import StandardScaler, MinMaxScaler, \\\n",
    "                                  OneHotEncoder\n",
    "from sklearn.impute import SimpleImputer\n",
    "from sklearn.base import BaseEstimator, TransformerMixin\n",
    "import warnings\n",
    "import matplotlib.pyplot as plt\n",
    "from sklearn.preprocessing import KBinsDiscretizer\n",
    "warnings.filterwarnings(\"ignore\")\n",
    "\n",
    "import shap\n",
    "import pandas as pd\n",
    "from numpy import cumsum\n",
    "from xgboost import XGBClassifier\n",
    "\n",
    "seed(40)\n",
    "\n",
    "# shap values\n",
    "shap_values = shap.TreeExplainer(experiment_model).shap_values(X[0:10000])\n",
    "\n",
    "sorted_feature_importance = pd.DataFrame(shap_values, columns=X.columns).abs().sum().sort_values(ascending=False)\n",
    "cumulative_sum = cumsum([y for (x,y) in sorted_feature_importance.reset_index().values])\n",
    "gt_999_importance = cumulative_sum / cumulative_sum[-1] > .999\n",
    "nth_feature = min([y for (x,y) in zip(gt_999_importance, zip(range(len(gt_999_importance)))) if x])[0]\n",
    "important_columns = sorted_feature_importance.iloc[0:nth_feature+1].index.values.tolist()\n",
    "print(important_columns)\n",
    "\n",
    "plt.clf()\n",
    "shap.summary_plot(shap_values, X[0:10000])\n",
    "\n"
   ]
  },
  {
   "cell_type": "markdown",
   "metadata": {},
   "source": [
    "- Primary\n",
    "    - **When IP:** Lower\n",
    "- Secondary\n",
    "    - **If Capped Range**: Lower\n",
    "    - **You have a wide range**: Lower    \n",
    "    - **If RFI and No Raisers**: Higher\n",
    "    - **High Rank1**: Higher\n"
   ]
  },
  {
   "cell_type": "markdown",
   "metadata": {},
   "source": [
    "## Decision Tree with these 5 features"
   ]
  },
  {
   "cell_type": "code",
   "execution_count": null,
   "metadata": {},
   "outputs": [],
   "source": [
    "def remove_everything(string):\n",
    "    return string.replace(\"\\n0 [\",\"\").replace(\"label=\\\"\",\"\").replace('\"] ', '').replace('value = ', ''). \\\n",
    "                  replace('10.5', 'T'). \\\n",
    "                  replace('11.5', 'J'). \\\n",
    "                  replace('12.5', 'Q'). \\\n",
    "                  replace('13.5', 'K'). \\\n",
    "                  replace('samples = ', '')\n"
   ]
  },
  {
   "cell_type": "code",
   "execution_count": null,
   "metadata": {},
   "outputs": [],
   "source": [
    "print(dot_data)"
   ]
  },
  {
   "cell_type": "code",
   "execution_count": null,
   "metadata": {},
   "outputs": [],
   "source": [
    "dot_data.split(\";\")[2].split(\"\\\\n\")[3]"
   ]
  },
  {
   "cell_type": "code",
   "execution_count": null,
   "metadata": {},
   "outputs": [],
   "source": [
    "remove_everything(dot_data.split(\";\")[2][5:].split(\"\\\\n\")[1])"
   ]
  },
  {
   "cell_type": "code",
   "execution_count": null,
   "metadata": {},
   "outputs": [],
   "source": [
    "clf2.tree_.samples[0]"
   ]
  },
  {
   "cell_type": "code",
   "execution_count": 9,
   "metadata": {},
   "outputs": [],
   "source": [
    "# temp_df = df.sample(2000000)\n",
    "temp_df = df.copy()"
   ]
  },
  {
   "cell_type": "code",
   "execution_count": 9,
   "metadata": {},
   "outputs": [
    {
     "name": "stdout",
     "output_type": "stream",
     "text": [
      "score: 3.486793645982901\n",
      "score: 3.063823037939382\n",
      "score: 3.063823037939382\n",
      "score: 3.063823037939382\n",
      "score: 3.063823037939382\n",
      "score: 3.063823037939382\n",
      "score: 3.063823037939382\n"
     ]
    },
    {
     "data": {
      "image/svg+xml": [
       "<?xml version=\"1.0\" encoding=\"UTF-8\" standalone=\"no\"?>\n",
       "<!DOCTYPE svg PUBLIC \"-//W3C//DTD SVG 1.1//EN\"\n",
       " \"http://www.w3.org/Graphics/SVG/1.1/DTD/svg11.dtd\">\n",
       "<!-- Generated by graphviz version 2.40.1 (20161225.0304)\n",
       " -->\n",
       "<!-- Title: Tree Pages: 1 -->\n",
       "<svg width=\"486pt\" height=\"258pt\"\n",
       " viewBox=\"0.00 0.00 486.00 258.00\" xmlns=\"http://www.w3.org/2000/svg\" xmlns:xlink=\"http://www.w3.org/1999/xlink\">\n",
       "<g id=\"graph0\" class=\"graph\" transform=\"scale(1 1) rotate(0) translate(4 254)\">\n",
       "<title>Tree</title>\n",
       "<polygon fill=\"#ffffff\" stroke=\"transparent\" points=\"-4,4 -4,-254 481.999,-254 481.999,4 -4,4\"/>\n",
       "<!-- 0 -->\n",
       "<g id=\"node1\" class=\"node\">\n",
       "<title>0</title>\n",
       "<polygon fill=\"none\" stroke=\"#000000\" points=\"300.6864,-250 177.3126,-250 177.3126,-186 300.6864,-186 300.6864,-250\"/>\n",
       "<text text-anchor=\"middle\" x=\"238.9995\" y=\"-234.8\" font-family=\"Times,serif\" font-size=\"14.00\" fill=\"#000000\">bluff_code &lt;= 15.5</text>\n",
       "<text text-anchor=\"middle\" x=\"238.9995\" y=\"-220.8\" font-family=\"Times,serif\" font-size=\"14.00\" fill=\"#000000\">mse = 26.424</text>\n",
       "<text text-anchor=\"middle\" x=\"238.9995\" y=\"-206.8\" font-family=\"Times,serif\" font-size=\"14.00\" fill=\"#000000\">samples = 11958</text>\n",
       "<text text-anchor=\"middle\" x=\"238.9995\" y=\"-192.8\" font-family=\"Times,serif\" font-size=\"14.00\" fill=\"#000000\">value = 7.905</text>\n",
       "</g>\n",
       "<!-- 1 -->\n",
       "<g id=\"node2\" class=\"node\">\n",
       "<title>1</title>\n",
       "<polygon fill=\"none\" stroke=\"#000000\" points=\"228.1865,-150 111.8126,-150 111.8126,-86 228.1865,-86 228.1865,-150\"/>\n",
       "<text text-anchor=\"middle\" x=\"169.9995\" y=\"-134.8\" font-family=\"Times,serif\" font-size=\"14.00\" fill=\"#000000\">bluff_code &lt;= 8.5</text>\n",
       "<text text-anchor=\"middle\" x=\"169.9995\" y=\"-120.8\" font-family=\"Times,serif\" font-size=\"14.00\" fill=\"#000000\">mse = 8.717</text>\n",
       "<text text-anchor=\"middle\" x=\"169.9995\" y=\"-106.8\" font-family=\"Times,serif\" font-size=\"14.00\" fill=\"#000000\">samples = 6822</text>\n",
       "<text text-anchor=\"middle\" x=\"169.9995\" y=\"-92.8\" font-family=\"Times,serif\" font-size=\"14.00\" fill=\"#000000\">value = 4.623</text>\n",
       "</g>\n",
       "<!-- 0&#45;&gt;1 -->\n",
       "<g id=\"edge1\" class=\"edge\">\n",
       "<title>0&#45;&gt;1</title>\n",
       "<path fill=\"none\" stroke=\"#000000\" d=\"M216.7877,-185.8089C210.8167,-177.1553 204.2808,-167.683 198.0377,-158.635\"/>\n",
       "<polygon fill=\"#000000\" stroke=\"#000000\" points=\"200.7298,-156.3738 192.1697,-150.1308 194.9682,-160.3493 200.7298,-156.3738\"/>\n",
       "<text text-anchor=\"middle\" x=\"187.6592\" y=\"-170.5205\" font-family=\"Times,serif\" font-size=\"14.00\" fill=\"#000000\">True</text>\n",
       "</g>\n",
       "<!-- 4 -->\n",
       "<g id=\"node5\" class=\"node\">\n",
       "<title>4</title>\n",
       "<polygon fill=\"none\" stroke=\"#000000\" points=\"369.6864,-150 246.3126,-150 246.3126,-86 369.6864,-86 369.6864,-150\"/>\n",
       "<text text-anchor=\"middle\" x=\"307.9995\" y=\"-134.8\" font-family=\"Times,serif\" font-size=\"14.00\" fill=\"#000000\">bluff_code &lt;= 18.5</text>\n",
       "<text text-anchor=\"middle\" x=\"307.9995\" y=\"-120.8\" font-family=\"Times,serif\" font-size=\"14.00\" fill=\"#000000\">mse = 16.625</text>\n",
       "<text text-anchor=\"middle\" x=\"307.9995\" y=\"-106.8\" font-family=\"Times,serif\" font-size=\"14.00\" fill=\"#000000\">samples = 5136</text>\n",
       "<text text-anchor=\"middle\" x=\"307.9995\" y=\"-92.8\" font-family=\"Times,serif\" font-size=\"14.00\" fill=\"#000000\">value = 12.265</text>\n",
       "</g>\n",
       "<!-- 0&#45;&gt;4 -->\n",
       "<g id=\"edge4\" class=\"edge\">\n",
       "<title>0&#45;&gt;4</title>\n",
       "<path fill=\"none\" stroke=\"#000000\" d=\"M261.2114,-185.8089C267.1824,-177.1553 273.7182,-167.683 279.9613,-158.635\"/>\n",
       "<polygon fill=\"#000000\" stroke=\"#000000\" points=\"283.0308,-160.3493 285.8293,-150.1308 277.2692,-156.3738 283.0308,-160.3493\"/>\n",
       "<text text-anchor=\"middle\" x=\"290.3398\" y=\"-170.5205\" font-family=\"Times,serif\" font-size=\"14.00\" fill=\"#000000\">False</text>\n",
       "</g>\n",
       "<!-- 2 -->\n",
       "<g id=\"node3\" class=\"node\">\n",
       "<title>2</title>\n",
       "<polygon fill=\"none\" stroke=\"#000000\" points=\"103.9985,-50 .0005,-50 .0005,0 103.9985,0 103.9985,-50\"/>\n",
       "<text text-anchor=\"middle\" x=\"51.9995\" y=\"-34.8\" font-family=\"Times,serif\" font-size=\"14.00\" fill=\"#000000\">mse = 2.201</text>\n",
       "<text text-anchor=\"middle\" x=\"51.9995\" y=\"-20.8\" font-family=\"Times,serif\" font-size=\"14.00\" fill=\"#000000\">samples = 3368</text>\n",
       "<text text-anchor=\"middle\" x=\"51.9995\" y=\"-6.8\" font-family=\"Times,serif\" font-size=\"14.00\" fill=\"#000000\">value = 2.65</text>\n",
       "</g>\n",
       "<!-- 1&#45;&gt;2 -->\n",
       "<g id=\"edge2\" class=\"edge\">\n",
       "<title>1&#45;&gt;2</title>\n",
       "<path fill=\"none\" stroke=\"#000000\" d=\"M129.3906,-85.9947C117.2573,-76.432 103.9711,-65.9606 91.8847,-56.4349\"/>\n",
       "<polygon fill=\"#000000\" stroke=\"#000000\" points=\"93.7582,-53.4551 83.7377,-50.014 89.4252,-58.9529 93.7582,-53.4551\"/>\n",
       "</g>\n",
       "<!-- 3 -->\n",
       "<g id=\"node4\" class=\"node\">\n",
       "<title>3</title>\n",
       "<polygon fill=\"none\" stroke=\"#000000\" points=\"225.9985,-50 122.0005,-50 122.0005,0 225.9985,0 225.9985,-50\"/>\n",
       "<text text-anchor=\"middle\" x=\"173.9995\" y=\"-34.8\" font-family=\"Times,serif\" font-size=\"14.00\" fill=\"#000000\">mse = 7.574</text>\n",
       "<text text-anchor=\"middle\" x=\"173.9995\" y=\"-20.8\" font-family=\"Times,serif\" font-size=\"14.00\" fill=\"#000000\">samples = 3454</text>\n",
       "<text text-anchor=\"middle\" x=\"173.9995\" y=\"-6.8\" font-family=\"Times,serif\" font-size=\"14.00\" fill=\"#000000\">value = 6.546</text>\n",
       "</g>\n",
       "<!-- 1&#45;&gt;3 -->\n",
       "<g id=\"edge3\" class=\"edge\">\n",
       "<title>1&#45;&gt;3</title>\n",
       "<path fill=\"none\" stroke=\"#000000\" d=\"M171.3761,-85.9947C171.736,-77.6273 172.1258,-68.5643 172.4921,-60.0478\"/>\n",
       "<polygon fill=\"#000000\" stroke=\"#000000\" points=\"175.9906,-60.1552 172.9236,-50.014 168.9971,-59.8544 175.9906,-60.1552\"/>\n",
       "</g>\n",
       "<!-- 5 -->\n",
       "<g id=\"node6\" class=\"node\">\n",
       "<title>5</title>\n",
       "<polygon fill=\"none\" stroke=\"#000000\" points=\"355.9985,-50 252.0005,-50 252.0005,0 355.9985,0 355.9985,-50\"/>\n",
       "<text text-anchor=\"middle\" x=\"303.9995\" y=\"-34.8\" font-family=\"Times,serif\" font-size=\"14.00\" fill=\"#000000\">mse = 13.285</text>\n",
       "<text text-anchor=\"middle\" x=\"303.9995\" y=\"-20.8\" font-family=\"Times,serif\" font-size=\"14.00\" fill=\"#000000\">samples = 2477</text>\n",
       "<text text-anchor=\"middle\" x=\"303.9995\" y=\"-6.8\" font-family=\"Times,serif\" font-size=\"14.00\" fill=\"#000000\">value = 11.149</text>\n",
       "</g>\n",
       "<!-- 4&#45;&gt;5 -->\n",
       "<g id=\"edge5\" class=\"edge\">\n",
       "<title>4&#45;&gt;5</title>\n",
       "<path fill=\"none\" stroke=\"#000000\" d=\"M306.6229,-85.9947C306.2631,-77.6273 305.8732,-68.5643 305.5069,-60.0478\"/>\n",
       "<polygon fill=\"#000000\" stroke=\"#000000\" points=\"309.002,-59.8544 305.0754,-50.014 302.0084,-60.1552 309.002,-59.8544\"/>\n",
       "</g>\n",
       "<!-- 6 -->\n",
       "<g id=\"node7\" class=\"node\">\n",
       "<title>6</title>\n",
       "<polygon fill=\"none\" stroke=\"#000000\" points=\"477.9985,-50 374.0005,-50 374.0005,0 477.9985,0 477.9985,-50\"/>\n",
       "<text text-anchor=\"middle\" x=\"425.9995\" y=\"-34.8\" font-family=\"Times,serif\" font-size=\"14.00\" fill=\"#000000\">mse = 17.499</text>\n",
       "<text text-anchor=\"middle\" x=\"425.9995\" y=\"-20.8\" font-family=\"Times,serif\" font-size=\"14.00\" fill=\"#000000\">samples = 2659</text>\n",
       "<text text-anchor=\"middle\" x=\"425.9995\" y=\"-6.8\" font-family=\"Times,serif\" font-size=\"14.00\" fill=\"#000000\">value = 13.303</text>\n",
       "</g>\n",
       "<!-- 4&#45;&gt;6 -->\n",
       "<g id=\"edge6\" class=\"edge\">\n",
       "<title>4&#45;&gt;6</title>\n",
       "<path fill=\"none\" stroke=\"#000000\" d=\"M348.6084,-85.9947C360.7417,-76.432 374.028,-65.9606 386.1144,-56.4349\"/>\n",
       "<polygon fill=\"#000000\" stroke=\"#000000\" points=\"388.5738,-58.9529 394.2613,-50.014 384.2408,-53.4551 388.5738,-58.9529\"/>\n",
       "</g>\n",
       "</g>\n",
       "</svg>\n"
      ],
      "text/plain": [
       "<graphviz.files.Source at 0x10efae160>"
      ]
     },
     "execution_count": 9,
     "metadata": {},
     "output_type": "execute_result"
    }
   ],
   "source": [
    "# Get important columns\n",
    "# importance_threshold = 9\n",
    "# important_columns = []\n",
    "# for i, x in zip((feature_score['Score'].round(2) > importance_threshold).index, (feature_score['Score'].round(2) > importance_threshold)):\n",
    "#     if x:\n",
    "#         important_columns.append(X.columns[i])\n",
    "# print(\"important_columns:\", important_columns)\n",
    "\n",
    "\n",
    "# temp_df_new = temp_df[temp_df[\"position\"] == \"Villain LJ RFI and You BB Call\"].drop([\"position\", \"range\", \"top_range\"], axis=1) # [[\"rank1\", \"my_position_ip\", \"target\"]]\n",
    "temp_df_new = temp_df.copy()\n",
    "\n",
    "train, test = train_test_split(temp_df_new, test_size=0.40)\n",
    "\n",
    "\n",
    "train_X = train.drop([\"target\"], axis=1)\n",
    "train_y = train[[\"target\"]]\n",
    "test_X = test.drop([\"target\"], axis=1)\n",
    "test_y = test[[\"target\"]]\n",
    "min_samples_split = int(train_X.shape[0]*0.3)\n",
    "\n",
    "\n",
    "from graphviz import Source\n",
    "from sklearn.tree import export_graphviz\n",
    "from sklearn import tree, linear_model\n",
    "%matplotlib inline\n",
    "for i in range(1,7):\n",
    "    clf2 = tree.DecisionTreeRegressor(max_depth=i, min_samples_split=min_samples_split)\n",
    "    clf2.fit(train_X, train_y)\n",
    "    pred_y = clf2.predict(test_X)\n",
    "    from sklearn.metrics import mean_squared_error\n",
    "    score = np.sqrt(mean_squared_error(pred_y, test_y))\n",
    "    print(\"score:\", score)\n",
    "    # clf2.coef_\n",
    "\n",
    "CHOICE = 5\n",
    "\n",
    "clf2 = tree.DecisionTreeRegressor(max_depth=CHOICE, min_samples_split=min_samples_split)\n",
    "clf2.fit(train_X, train_y)\n",
    "pred_y = clf2.predict(train_X)\n",
    "from sklearn.metrics import mean_squared_error\n",
    "print(\"score:\", score)\n",
    "dot_data = export_graphviz(clf2, out_file=None, feature_names=train_X.columns)\n",
    "graph = Source(dot_data)\n",
    "graph.render(\"graph\")        \n",
    "graph\n",
    "# clf2.coef_    \n"
   ]
  },
  {
   "cell_type": "code",
   "execution_count": 16,
   "metadata": {},
   "outputs": [
    {
     "data": {
      "text/plain": [
       "Villain SB RFI and You BB Call       1714\n",
       "Villain BN RFI and You BB Call       1699\n",
       "SB RFI                               1691\n",
       "BN RFI                               1685\n",
       "HJ RFI                               1664\n",
       "CO RFI and You BB Call               1664\n",
       "You RFI, get 3Bet and you Call       1653\n",
       "LJ RFI                               1639\n",
       "Villain RFI and You Call (Not BB)    1633\n",
       "Villain HJ RFI and You BB Call       1632\n",
       "Villain LJ RFI and You BB Call       1631\n",
       "CO RFI                               1625\n",
       "Name: position, dtype: int64"
      ]
     },
     "execution_count": 16,
     "metadata": {},
     "output_type": "execute_result"
    }
   ],
   "source": [
    "temp_df['position'].value_counts()"
   ]
  },
  {
   "cell_type": "code",
   "execution_count": null,
   "metadata": {},
   "outputs": [],
   "source": [
    "temp_df_new = temp_df[temp_df[\"position\"] == \"LJ RFI\"].drop([\"position\"], axis=1) # [[\"rank1\", \"my_position_ip\", \"target\"]]\n",
    "X_new = temp_df_new.drop([\"target\"], axis=1)\n",
    "y = temp_df_new[[\"target\"]]\n",
    "\n",
    "ys = []\n",
    "for index, row in test_X.iterrows():\n",
    "    ys.append(18)\n",
    "#     if row['rank1'] <= 10 or row['is_paired']:\n",
    "#         ys.append(17)\n",
    "#     elif row['rank2'] <= 8:\n",
    "#         ys.append(18)\n",
    "#     else:\n",
    "#         ys.append(19)\n",
    "        \n",
    "score = np.sqrt(mean_squared_error(ys, test_y))\n",
    "print(\"score:\", score)\n"
   ]
  },
  {
   "cell_type": "code",
   "execution_count": null,
   "metadata": {},
   "outputs": [],
   "source": [
    "# HJ RFI\n",
    "ys = []\n",
    "for index, row in X_new.iterrows():\n",
    "    if row['rank1'] <= 10 and rank2 <= :\n",
    "        if row['rank2'] <= 8:\n",
    "            ys.append(18)\n",
    "        else:\n",
    "            ys.append(19)\n",
    "    else:\n",
    "        ys.append(17)\n",
    "score = np.sqrt(mean_squared_error(ys, y))\n",
    "print(\"score:\", score)\n"
   ]
  },
  {
   "cell_type": "code",
   "execution_count": null,
   "metadata": {},
   "outputs": [],
   "source": []
  },
  {
   "cell_type": "markdown",
   "metadata": {},
   "source": [
    "Full rules:\n",
    "- Call:\n",
    "    - IP:\n",
    "        - A-K board: 15   (1%)\n",
    "        - else: 17    (1%)\n",
    "    - OOP:\n",
    "        - A-Q board: 8    (13%)\n",
    "        - else: 10     (11%)\n",
    "- PFR:\n",
    "    - IP:\n",
    "        - CO/BN: 17     (14%)\n",
    "        - else: 3        (6%)\n",
    "    - OOP:\n",
    "        - CO_BN_SB: 8     (7%)        \n",
    "        - else: 17      (46%)\n",
    "           \n",
    "                                \n",
    "## Simple rules:\n",
    "\n",
    "- Called: 10\n",
    "- Late IP: 17\n",
    "- Other IP: 3\n",
    "- Late OOP: 8\n",
    "- Else: 17\n",
    "\n",
    "\n"
   ]
  },
  {
   "cell_type": "code",
   "execution_count": 115,
   "metadata": {},
   "outputs": [
    {
     "name": "stdout",
     "output_type": "stream",
     "text": [
      "0 is_bb\n",
      "1 is_capped\n",
      "2 is_paired\n",
      "3 my_pfr\n",
      "4 my_position_ip\n",
      "5 range\n",
      "6 rank1\n",
      "7 rank2\n",
      "8 rank3\n",
      "9 tones\n",
      "10 top_range\n",
      "11 wide_rfi\n",
      "12 you_3b\n",
      "13 you_rfi_and_no_raise\n"
     ]
    }
   ],
   "source": [
    "for i, name in zip(range(len(X_new.columns)), X_new.columns):\n",
    "    print(i, name)\n",
    "\n",
    "\n"
   ]
  },
  {
   "cell_type": "code",
   "execution_count": null,
   "metadata": {},
   "outputs": [],
   "source": [
    "# from sklearn.tree import _tree\n",
    "\n",
    "# def tree_to_code(tree, train_X):\n",
    "#     lookup = {}\n",
    "#     unique, value = np.unique(clf2.apply(train_X), return_counts=True)\n",
    "#     for (x, y) in zip(unique, value):\n",
    "#         lookup[x] = y\n",
    "    \n",
    "#     feature_names = train_X.columns\n",
    "    \n",
    "#     tree_ = tree.tree_\n",
    "#     feature_name = [\n",
    "#         feature_names[i] if i != _tree.TREE_UNDEFINED else \"undefined!\"\n",
    "#         for i in tree_.feature\n",
    "#     ]\n",
    "#     print(\"def tree({}):\".format(\", \".join(feature_names)))\n",
    "\n",
    "#     def recurse(node, depth):\n",
    "#         indent = \"  \" * depth\n",
    "#         if tree_.feature[node] != _tree.TREE_UNDEFINED:\n",
    "#             name = feature_name[node]\n",
    "#             threshold = tree_.threshold[node]\n",
    "#             print(\"{}if {} <= {}:\".format(indent, name, threshold))\n",
    "#             recurse(tree_.children_left[node], depth + 1)\n",
    "#             print(\"{}else:  # if {} > {}\".format(indent, name, threshold))\n",
    "#             recurse(tree_.children_right[node], depth + 1)\n",
    "#         else:\n",
    "#             print(\"{}return {}\".format(indent, tree_.value[node]))\n",
    "\n",
    "#     recurse(0, 1)\n",
    "    \n",
    "# tree_to_code(clf2, train_X)  \n",
    "    \n",
    "# def extract_from_tree_size_1(dot_data, total_samples):\n",
    "#     significant_size = total_samples*0.1\n",
    "#     rule1 = remove_everything(dot_data.split(\";\")[1].split(\"\\\\n\")[0])\n",
    "#     samples1 = int(remove_everything(dot_data.split(\";\")[1].split(\"\\\\n\")[2]))\n",
    "#     value1 = round(float(remove_everything(dot_data.split(\";\")[1].split(\"\\\\n\")[3])))\n",
    "#     print(rule1, samples1, value1)\n",
    "\n",
    "#     samples2 = int(remove_everything(dot_data.split(\";\")[2].split(\"\\\\n\")[1]))\n",
    "#     value2 = round(float(remove_everything(dot_data.split(\";\")[2].split(\"\\\\n\")[2])))\n",
    "#     if samples2 >= significant_size:\n",
    "#         print(samples2, value2)\n",
    "\n",
    "#     samples3 = int(remove_everything(dot_data.split(\";\")[4].split(\"\\\\n\")[1]))\n",
    "#     value3 = round(float(remove_everything(dot_data.split(\";\")[4].split(\"\\\\n\")[2])))\n",
    "#     if samples3 >= significant_size:\n",
    "#         print(samples3, value3)\n",
    "        \n",
    "#     if samples2 >= significant_size:\n",
    "        \n",
    "    \n"
   ]
  }
 ],
 "metadata": {
  "kernelspec": {
   "display_name": "commons",
   "language": "python",
   "name": "commons"
  },
  "language_info": {
   "codemirror_mode": {
    "name": "ipython",
    "version": 3
   },
   "file_extension": ".py",
   "mimetype": "text/x-python",
   "name": "python",
   "nbconvert_exporter": "python",
   "pygments_lexer": "ipython3",
   "version": "3.6.5"
  },
  "toc": {
   "base_numbering": 1,
   "nav_menu": {},
   "number_sections": true,
   "sideBar": true,
   "skip_h1_title": false,
   "title_cell": "Table of Contents",
   "title_sidebar": "Contents",
   "toc_cell": false,
   "toc_position": {},
   "toc_section_display": true,
   "toc_window_display": false
  }
 },
 "nbformat": 4,
 "nbformat_minor": 2
}
