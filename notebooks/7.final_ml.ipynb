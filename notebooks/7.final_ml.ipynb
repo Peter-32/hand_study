{
 "cells": [
  {
   "cell_type": "code",
   "execution_count": 142,
   "metadata": {},
   "outputs": [
    {
     "data": {
      "text/plain": [
       "(1397399, 18)"
      ]
     },
     "execution_count": 142,
     "metadata": {},
     "output_type": "execute_result"
    }
   ],
   "source": [
    "# %matplotlib inline\n",
    "# from sklearn.model_selection import train_test_split\n",
    "# from xgboost import XGBClassifier, plot_tree\n",
    "# from sklearn.preprocessing import StandardScaler\n",
    "# from sklearn.metrics import accuracy_score, confusion_matrix, roc_auc_score, precision_recall_curve, auc, f1_score, log_loss, precision_score\n",
    "# from pandas import DataFrame, concat\n",
    "# from numpy.random import seed\n",
    "# from sklearn.feature_selection import SelectKBest, chi2, f_classif\n",
    "# from sklearn.decomposition import PCA\n",
    "# from catboost import CatBoostRegressor\n",
    "# from catboost import Pool\n",
    "# from graphviz import Source\n",
    "# from sklearn.tree import export_graphviz\n",
    "# from sklearn.preprocessing import PolynomialFeatures\n",
    "# import shap\n",
    "# import datetime\n",
    "# import matplotlib.pyplot as plt\n",
    "# from numpy import max\n",
    "# from pandasql import sqldf\n",
    "# from sklearn.metrics import roc_curve\n",
    "# import numpy as np\n",
    "# import pandas as pd\n",
    "# experiment_model = CatBoostRegressor()\n",
    "# df = pd.read_csv(\"../data/interim/train.csv\") # .drop_duplicates()\n",
    "# df = pd.concat([df.loc[df['is_paired'] == 0], df.loc[df['is_paired'] == 1].head(int(df.loc[df['is_paired'] == 0].shape[0]*.2048))], axis='index')\n",
    "\n",
    "# # df = pd.read_csv(\"../data/raw/1.csv\")\n",
    "# df.shape\n"
   ]
  },
  {
   "cell_type": "code",
   "execution_count": 163,
   "metadata": {},
   "outputs": [
    {
     "data": {
      "text/plain": [
       "Villain BN RFI and You BB Call       117063\n",
       "Villain HJ RFI and You BB Call       116762\n",
       "HJ RFI                               116645\n",
       "Villain LJ RFI and You BB Call       116583\n",
       "CO RFI and You BB Call               116570\n",
       "CO RFI                               116538\n",
       "BN RFI                               116466\n",
       "Villain RFI and You Call (Not BB)    116241\n",
       "SB RFI                               116190\n",
       "Villain SB RFI and You BB Call       116187\n",
       "LJ RFI                               116179\n",
       "You RFI, get 3Bet and you Call       115975\n",
       "Name: position, dtype: int64"
      ]
     },
     "execution_count": 163,
     "metadata": {},
     "output_type": "execute_result"
    }
   ],
   "source": [
    "df['position'].value_counts()"
   ]
  },
  {
   "cell_type": "code",
   "execution_count": 144,
   "metadata": {},
   "outputs": [],
   "source": [
    "seed(42)\n",
    "temp_df = df.copy()\n",
    "# temp_df = temp_df[[\"bluff_code\", \"target\"]]\n",
    "# temp_df = df.sample(100000)\n",
    "# temp_df = df[df[\"position\"] == \"BN RFI\"]\n",
    "# X = temp_df.drop([\"target\", \"position\"], axis=1)\n",
    "X = temp_df.drop([\"cat4_flop_bluff_second\", \"cat4_turn_bluff_second\", \"cat4_river_bluff_second\"], axis=1)\n",
    "y = temp_df[[\"cat4_flop_bluff_second\"]]\n",
    "\n",
    "\n",
    "# X = X[important_columns]\n",
    "cat_features = [0]\n",
    "\n",
    "# Get shap dataframes\n",
    "X = DataFrame(X, columns=X.columns)\n",
    "\n",
    "# Fit the model on the training set\n",
    "experiment_model.fit(X, y, cat_features=cat_features, logging_level='Silent')\n",
    "\n",
    "feature_score = pd.DataFrame(list(zip(X.dtypes.index, experiment_model.get_feature_importance(Pool(X, label=y, cat_features=cat_features)))),\n",
    "                columns=['Feature','Score'])\n",
    "\n",
    "feature_score = feature_score.sort_values(by='Score', ascending=False, inplace=False, kind='quicksort', na_position='last')\n",
    "\n",
    "plt.rcParams[\"figure.figsize\"] = (12,7)\n",
    "ax = feature_score.plot('Feature', 'Score', kind='bar', color='c')\n",
    "ax.set_title(\"Catboost Feature Importance Ranking\", fontsize = 14)\n",
    "ax.set_xlabel('')\n",
    "\n",
    "rects = ax.patches\n",
    "\n",
    "labels = feature_score['Score'].round(2)\n",
    "\n",
    "for rect, label in zip(rects, labels):\n",
    "    height = rect.get_height()\n",
    "    ax.text(rect.get_x() + rect.get_width()/2, height + 0.35, label, ha='center', va='bottom')\n",
    "\n",
    "plt.show()\n"
   ]
  },
  {
   "cell_type": "code",
   "execution_count": null,
   "metadata": {},
   "outputs": [],
   "source": [
    "pred_y = experiment_model.predict(X)\n",
    "from sklearn.metrics import mean_squared_error\n",
    "score = np.sqrt(mean_squared_error(pred_y, y))\n",
    "print(\"goodness of fit score\", score)\n",
    "score = np.sqrt(mean_squared_error([y.mean()]*y.shape[0], y))\n",
    "print(\"baseline\", score)"
   ]
  },
  {
   "cell_type": "markdown",
   "metadata": {},
   "source": [
    "## The Important Part"
   ]
  },
  {
   "cell_type": "code",
   "execution_count": null,
   "metadata": {},
   "outputs": [],
   "source": [
    "temp_df = df.copy()\n",
    "temp_df['is_paired'].value_counts(normalize=True)\n",
    "temp_df.shape"
   ]
  },
  {
   "cell_type": "code",
   "execution_count": 158,
   "metadata": {},
   "outputs": [
    {
     "name": "stdout",
     "output_type": "stream",
     "text": [
      "score: 10.573427238643683\n",
      "score: 8.982771678492792\n",
      "score: 8.386365890810954\n",
      "score: 7.8978501814068895\n",
      "score: 7.8978501814068895\n",
      "score: 7.8978501814068895\n",
      "final score: 7.8978501814068895\n",
      "baseline score: 13.465439336102062\n"
     ]
    },
    {
     "data": {
      "image/svg+xml": [
       "<?xml version=\"1.0\" encoding=\"UTF-8\" standalone=\"no\"?>\n",
       "<!DOCTYPE svg PUBLIC \"-//W3C//DTD SVG 1.1//EN\"\n",
       " \"http://www.w3.org/Graphics/SVG/1.1/DTD/svg11.dtd\">\n",
       "<!-- Generated by graphviz version 2.44.1 (20200629.0846)\n",
       " -->\n",
       "<!-- Title: Tree Pages: 1 -->\n",
       "<svg width=\"372pt\" height=\"477pt\"\n",
       " viewBox=\"0.00 0.00 372.00 477.00\" xmlns=\"http://www.w3.org/2000/svg\" xmlns:xlink=\"http://www.w3.org/1999/xlink\">\n",
       "<g id=\"graph0\" class=\"graph\" transform=\"scale(1 1) rotate(0) translate(4 473)\">\n",
       "<title>Tree</title>\n",
       "<polygon fill=\"white\" stroke=\"transparent\" points=\"-4,4 -4,-473 368,-473 368,4 -4,4\"/>\n",
       "<!-- 0 -->\n",
       "<g id=\"node1\" class=\"node\">\n",
       "<title>0</title>\n",
       "<polygon fill=\"none\" stroke=\"black\" points=\"238,-469 128,-469 128,-401 238,-401 238,-469\"/>\n",
       "<text text-anchor=\"middle\" x=\"183\" y=\"-453.8\" font-family=\"Times,serif\" font-size=\"14.00\">rank1 &lt;= 13.5</text>\n",
       "<text text-anchor=\"middle\" x=\"183\" y=\"-438.8\" font-family=\"Times,serif\" font-size=\"14.00\">mse = 180.76</text>\n",
       "<text text-anchor=\"middle\" x=\"183\" y=\"-423.8\" font-family=\"Times,serif\" font-size=\"14.00\">samples = 69879</text>\n",
       "<text text-anchor=\"middle\" x=\"183\" y=\"-408.8\" font-family=\"Times,serif\" font-size=\"14.00\">value = 48.02</text>\n",
       "</g>\n",
       "<!-- 1 -->\n",
       "<g id=\"node2\" class=\"node\">\n",
       "<title>1</title>\n",
       "<polygon fill=\"none\" stroke=\"black\" points=\"174,-365 64,-365 64,-297 174,-297 174,-365\"/>\n",
       "<text text-anchor=\"middle\" x=\"119\" y=\"-349.8\" font-family=\"Times,serif\" font-size=\"14.00\">rank1 &lt;= 8.5</text>\n",
       "<text text-anchor=\"middle\" x=\"119\" y=\"-334.8\" font-family=\"Times,serif\" font-size=\"14.00\">mse = 91.377</text>\n",
       "<text text-anchor=\"middle\" x=\"119\" y=\"-319.8\" font-family=\"Times,serif\" font-size=\"14.00\">samples = 54747</text>\n",
       "<text text-anchor=\"middle\" x=\"119\" y=\"-304.8\" font-family=\"Times,serif\" font-size=\"14.00\">value = 52.385</text>\n",
       "</g>\n",
       "<!-- 0&#45;&gt;1 -->\n",
       "<g id=\"edge1\" class=\"edge\">\n",
       "<title>0&#45;&gt;1</title>\n",
       "<path fill=\"none\" stroke=\"black\" d=\"M162.22,-400.88C156.8,-392.24 150.89,-382.82 145.22,-373.79\"/>\n",
       "<polygon fill=\"black\" stroke=\"black\" points=\"148.17,-371.91 139.89,-365.3 142.24,-375.63 148.17,-371.91\"/>\n",
       "<text text-anchor=\"middle\" x=\"134.32\" y=\"-385.97\" font-family=\"Times,serif\" font-size=\"14.00\">True</text>\n",
       "</g>\n",
       "<!-- 8 -->\n",
       "<g id=\"node9\" class=\"node\">\n",
       "<title>8</title>\n",
       "<polygon fill=\"none\" stroke=\"black\" points=\"302,-357.5 192,-357.5 192,-304.5 302,-304.5 302,-357.5\"/>\n",
       "<text text-anchor=\"middle\" x=\"247\" y=\"-342.3\" font-family=\"Times,serif\" font-size=\"14.00\">mse = 185.832</text>\n",
       "<text text-anchor=\"middle\" x=\"247\" y=\"-327.3\" font-family=\"Times,serif\" font-size=\"14.00\">samples = 15132</text>\n",
       "<text text-anchor=\"middle\" x=\"247\" y=\"-312.3\" font-family=\"Times,serif\" font-size=\"14.00\">value = 32.228</text>\n",
       "</g>\n",
       "<!-- 0&#45;&gt;8 -->\n",
       "<g id=\"edge8\" class=\"edge\">\n",
       "<title>0&#45;&gt;8</title>\n",
       "<path fill=\"none\" stroke=\"black\" d=\"M203.78,-400.88C210.75,-389.78 218.53,-377.37 225.55,-366.18\"/>\n",
       "<polygon fill=\"black\" stroke=\"black\" points=\"228.64,-367.85 230.99,-357.52 222.71,-364.13 228.64,-367.85\"/>\n",
       "<text text-anchor=\"middle\" x=\"236.57\" y=\"-378.19\" font-family=\"Times,serif\" font-size=\"14.00\">False</text>\n",
       "</g>\n",
       "<!-- 2 -->\n",
       "<g id=\"node3\" class=\"node\">\n",
       "<title>2</title>\n",
       "<polygon fill=\"none\" stroke=\"black\" points=\"110,-253.5 0,-253.5 0,-200.5 110,-200.5 110,-253.5\"/>\n",
       "<text text-anchor=\"middle\" x=\"55\" y=\"-238.3\" font-family=\"Times,serif\" font-size=\"14.00\">mse = 48.886</text>\n",
       "<text text-anchor=\"middle\" x=\"55\" y=\"-223.3\" font-family=\"Times,serif\" font-size=\"14.00\">samples = 10420</text>\n",
       "<text text-anchor=\"middle\" x=\"55\" y=\"-208.3\" font-family=\"Times,serif\" font-size=\"14.00\">value = 39.325</text>\n",
       "</g>\n",
       "<!-- 1&#45;&gt;2 -->\n",
       "<g id=\"edge2\" class=\"edge\">\n",
       "<title>1&#45;&gt;2</title>\n",
       "<path fill=\"none\" stroke=\"black\" d=\"M98.22,-296.88C91.25,-285.78 83.47,-273.37 76.45,-262.18\"/>\n",
       "<polygon fill=\"black\" stroke=\"black\" points=\"79.29,-260.13 71.01,-253.52 73.36,-263.85 79.29,-260.13\"/>\n",
       "</g>\n",
       "<!-- 3 -->\n",
       "<g id=\"node4\" class=\"node\">\n",
       "<title>3</title>\n",
       "<polygon fill=\"none\" stroke=\"black\" points=\"238,-261 128,-261 128,-193 238,-193 238,-261\"/>\n",
       "<text text-anchor=\"middle\" x=\"183\" y=\"-245.8\" font-family=\"Times,serif\" font-size=\"14.00\">rank1 &lt;= 11.5</text>\n",
       "<text text-anchor=\"middle\" x=\"183\" y=\"-230.8\" font-family=\"Times,serif\" font-size=\"14.00\">mse = 51.849</text>\n",
       "<text text-anchor=\"middle\" x=\"183\" y=\"-215.8\" font-family=\"Times,serif\" font-size=\"14.00\">samples = 44327</text>\n",
       "<text text-anchor=\"middle\" x=\"183\" y=\"-200.8\" font-family=\"Times,serif\" font-size=\"14.00\">value = 55.455</text>\n",
       "</g>\n",
       "<!-- 1&#45;&gt;3 -->\n",
       "<g id=\"edge3\" class=\"edge\">\n",
       "<title>1&#45;&gt;3</title>\n",
       "<path fill=\"none\" stroke=\"black\" d=\"M139.78,-296.88C145.2,-288.24 151.11,-278.82 156.78,-269.79\"/>\n",
       "<polygon fill=\"black\" stroke=\"black\" points=\"159.76,-271.63 162.11,-261.3 153.83,-267.91 159.76,-271.63\"/>\n",
       "</g>\n",
       "<!-- 4 -->\n",
       "<g id=\"node5\" class=\"node\">\n",
       "<title>4</title>\n",
       "<polygon fill=\"none\" stroke=\"black\" points=\"174,-149.5 64,-149.5 64,-96.5 174,-96.5 174,-149.5\"/>\n",
       "<text text-anchor=\"middle\" x=\"119\" y=\"-134.3\" font-family=\"Times,serif\" font-size=\"14.00\">mse = 1.839</text>\n",
       "<text text-anchor=\"middle\" x=\"119\" y=\"-119.3\" font-family=\"Times,serif\" font-size=\"14.00\">samples = 20919</text>\n",
       "<text text-anchor=\"middle\" x=\"119\" y=\"-104.3\" font-family=\"Times,serif\" font-size=\"14.00\">value = 59.761</text>\n",
       "</g>\n",
       "<!-- 3&#45;&gt;4 -->\n",
       "<g id=\"edge4\" class=\"edge\">\n",
       "<title>3&#45;&gt;4</title>\n",
       "<path fill=\"none\" stroke=\"black\" d=\"M162.22,-192.88C155.25,-181.78 147.47,-169.37 140.45,-158.18\"/>\n",
       "<polygon fill=\"black\" stroke=\"black\" points=\"143.29,-156.13 135.01,-149.52 137.36,-159.85 143.29,-156.13\"/>\n",
       "</g>\n",
       "<!-- 5 -->\n",
       "<g id=\"node6\" class=\"node\">\n",
       "<title>5</title>\n",
       "<polygon fill=\"none\" stroke=\"black\" points=\"302,-157 192,-157 192,-89 302,-89 302,-157\"/>\n",
       "<text text-anchor=\"middle\" x=\"247\" y=\"-141.8\" font-family=\"Times,serif\" font-size=\"14.00\">rank2 &lt;= 8.5</text>\n",
       "<text text-anchor=\"middle\" x=\"247\" y=\"-126.8\" font-family=\"Times,serif\" font-size=\"14.00\">mse = 65.162</text>\n",
       "<text text-anchor=\"middle\" x=\"247\" y=\"-111.8\" font-family=\"Times,serif\" font-size=\"14.00\">samples = 23408</text>\n",
       "<text text-anchor=\"middle\" x=\"247\" y=\"-96.8\" font-family=\"Times,serif\" font-size=\"14.00\">value = 51.606</text>\n",
       "</g>\n",
       "<!-- 3&#45;&gt;5 -->\n",
       "<g id=\"edge5\" class=\"edge\">\n",
       "<title>3&#45;&gt;5</title>\n",
       "<path fill=\"none\" stroke=\"black\" d=\"M203.78,-192.88C209.2,-184.24 215.11,-174.82 220.78,-165.79\"/>\n",
       "<polygon fill=\"black\" stroke=\"black\" points=\"223.76,-167.63 226.11,-157.3 217.83,-163.91 223.76,-167.63\"/>\n",
       "</g>\n",
       "<!-- 6 -->\n",
       "<g id=\"node7\" class=\"node\">\n",
       "<title>6</title>\n",
       "<polygon fill=\"none\" stroke=\"black\" points=\"236,-53 132,-53 132,0 236,0 236,-53\"/>\n",
       "<text text-anchor=\"middle\" x=\"184\" y=\"-37.8\" font-family=\"Times,serif\" font-size=\"14.00\">mse = 19.931</text>\n",
       "<text text-anchor=\"middle\" x=\"184\" y=\"-22.8\" font-family=\"Times,serif\" font-size=\"14.00\">samples = 9536</text>\n",
       "<text text-anchor=\"middle\" x=\"184\" y=\"-7.8\" font-family=\"Times,serif\" font-size=\"14.00\">value = 45.708</text>\n",
       "</g>\n",
       "<!-- 5&#45;&gt;6 -->\n",
       "<g id=\"edge6\" class=\"edge\">\n",
       "<title>5&#45;&gt;6</title>\n",
       "<path fill=\"none\" stroke=\"black\" d=\"M224.97,-88.95C219.11,-80.17 212.78,-70.66 206.88,-61.82\"/>\n",
       "<polygon fill=\"black\" stroke=\"black\" points=\"209.62,-59.62 201.16,-53.24 203.79,-63.5 209.62,-59.62\"/>\n",
       "</g>\n",
       "<!-- 7 -->\n",
       "<g id=\"node8\" class=\"node\">\n",
       "<title>7</title>\n",
       "<polygon fill=\"none\" stroke=\"black\" points=\"364,-53 254,-53 254,0 364,0 364,-53\"/>\n",
       "<text text-anchor=\"middle\" x=\"309\" y=\"-37.8\" font-family=\"Times,serif\" font-size=\"14.00\">mse = 55.896</text>\n",
       "<text text-anchor=\"middle\" x=\"309\" y=\"-22.8\" font-family=\"Times,serif\" font-size=\"14.00\">samples = 13872</text>\n",
       "<text text-anchor=\"middle\" x=\"309\" y=\"-7.8\" font-family=\"Times,serif\" font-size=\"14.00\">value = 55.661</text>\n",
       "</g>\n",
       "<!-- 5&#45;&gt;7 -->\n",
       "<g id=\"edge7\" class=\"edge\">\n",
       "<title>5&#45;&gt;7</title>\n",
       "<path fill=\"none\" stroke=\"black\" d=\"M268.68,-88.95C274.45,-80.17 280.68,-70.66 286.49,-61.82\"/>\n",
       "<polygon fill=\"black\" stroke=\"black\" points=\"289.56,-63.52 292.11,-53.24 283.7,-59.68 289.56,-63.52\"/>\n",
       "</g>\n",
       "</g>\n",
       "</svg>\n"
      ],
      "text/plain": [
       "<graphviz.files.Source at 0x13450bb20>"
      ]
     },
     "execution_count": 158,
     "metadata": {},
     "output_type": "execute_result"
    }
   ],
   "source": [
    "# Get important columns\n",
    "# importance_threshold = 9\n",
    "# important_columns = []\n",
    "# for i, x in zip((feature_score['Score'].round(2) > importance_threshold).index, (feature_score['Score'].round(2) > importance_threshold)):\n",
    "#     if x:\n",
    "#         important_columns.append(X.columns[i])\n",
    "# print(\"important_columns:\", important_columns)\n",
    "\n",
    "temp_df = df.copy()\n",
    "\n",
    "temp_df_new = temp_df[temp_df[\"position\"] == \"BN RFI\"].drop([\"position\", \"range\", \"top_range\"], axis=1) # [[\"rank1\", \"my_position_ip\", \"target\"]]\n",
    "# temp_df_new = temp_df_new.drop([\"position\"], axis=1)\n",
    "\n",
    "train, test = train_test_split(temp_df_new, test_size=0.40)\n",
    "\n",
    "choices = [\"cat4_flop_bluff_second\", \"cat4_turn_bluff_second\", \"cat4_river_bluff_second\"]\n",
    "target = choices[0]\n",
    "\n",
    "train_X = train.drop([\"cat4_flop_bluff_second\", \"cat4_turn_bluff_second\", \"cat4_river_bluff_second\"], axis=1)\n",
    "train_y = train[[target]]\n",
    "test_X = test.drop([\"cat4_flop_bluff_second\", \"cat4_turn_bluff_second\", \"cat4_river_bluff_second\"], axis=1)\n",
    "test_y = test[[target]]\n",
    "min_samples_split = int(train_X.shape[0]*0.3)\n",
    "\n",
    "\n",
    "from graphviz import Source\n",
    "from sklearn.tree import export_graphviz\n",
    "from sklearn import tree, linear_model\n",
    "%matplotlib inline\n",
    "for i in range(1,7):\n",
    "    clf2 = tree.DecisionTreeRegressor(max_depth=i, min_samples_split=min_samples_split)\n",
    "    clf2.fit(train_X, train_y)\n",
    "    pred_y = clf2.predict(test_X)\n",
    "    from sklearn.metrics import mean_squared_error\n",
    "    score = np.sqrt(mean_squared_error(pred_y, test_y))\n",
    "    print(\"score:\", score)\n",
    "    # clf2.coef_\n",
    "\n",
    "CHOICE = 4\n",
    "\n",
    "clf2 = tree.DecisionTreeRegressor(max_depth=CHOICE, min_samples_split=min_samples_split)\n",
    "clf2.fit(train_X, train_y)\n",
    "pred_y = clf2.predict(test_X)\n",
    "from sklearn.metrics import mean_squared_error\n",
    "score = np.sqrt(mean_squared_error(pred_y, test_y))\n",
    "print(\"final score:\", score)\n",
    "score = np.sqrt(mean_squared_error([train_y.mean()]*test_y.shape[0], test_y))\n",
    "print(\"baseline score:\", score)\n",
    "dot_data = export_graphviz(clf2, out_file=None, feature_names=train_X.columns)\n",
    "graph = Source(dot_data)\n",
    "graph.render(\"graph\")        \n",
    "graph\n",
    "# clf2.coef_    \n"
   ]
  },
  {
   "cell_type": "code",
   "execution_count": 160,
   "metadata": {},
   "outputs": [
    {
     "name": "stdout",
     "output_type": "stream",
     "text": [
      "35.118202921659204 0.36617553620799204\n",
      "55.456630406805836 0.633824463792008\n"
     ]
    }
   ],
   "source": [
    "choice = temp_df_new.loc[temp_df_new['rank1'].isin([2,3,4,5,6,7,8,14])]\n",
    "print(choice['cat4_flop_bluff_second'].mean(), choice.shape[0] / temp_df_new.shape[0])\n",
    "choice = temp_df_new.loc[~temp_df_new['rank1'].isin([2,3,4,5,6,7,8,14])]\n",
    "print(choice['cat4_flop_bluff_second'].mean(), choice.shape[0] / temp_df_new.shape[0])"
   ]
  },
  {
   "cell_type": "code",
   "execution_count": 161,
   "metadata": {},
   "outputs": [
    {
     "name": "stdout",
     "output_type": "stream",
     "text": [
      "final score: 9.234774796025254\n"
     ]
    }
   ],
   "source": [
    "def score_button_rfi(rank1):\n",
    "    if rank1 in [2,3,4,5,6,7,8,14]:\n",
    "        return 35\n",
    "    else:\n",
    "        return 55\n",
    "pred_y = test_X[['rank1']].apply(lambda x: score_button_rfi(*x), axis=1).astype(float)\n",
    "pred_y\n",
    "from sklearn.metrics import mean_squared_error\n",
    "score = np.sqrt(mean_squared_error(pred_y, test_y))\n",
    "print(\"final score:\", score)"
   ]
  },
  {
   "cell_type": "code",
   "execution_count": 154,
   "metadata": {},
   "outputs": [
    {
     "name": "stdout",
     "output_type": "stream",
     "text": [
      "45.397929957036844 0.2644289525776745\n",
      "23.727540776449114 0.7355710474223255\n"
     ]
    }
   ],
   "source": [
    "choice = temp_df_new.loc[((temp_df_new['rank3'] >= 9) | (temp_df_new['rank1'].isin([9,10])))]\n",
    "print(choice['cat4_flop_bluff_second'].mean(), choice.shape[0] / temp_df_new.shape[0])\n",
    "choice = temp_df_new.loc[~((temp_df_new['rank3'] >= 9) | (temp_df_new['rank1'].isin([9,10])))]\n",
    "print(choice['cat4_flop_bluff_second'].mean(), choice.shape[0] / temp_df_new.shape[0])\n",
    "\n"
   ]
  },
  {
   "cell_type": "code",
   "execution_count": 157,
   "metadata": {},
   "outputs": [
    {
     "name": "stdout",
     "output_type": "stream",
     "text": [
      "final score: 9.70722990452545\n"
     ]
    }
   ],
   "source": [
    "def score_sb_rfi(rank1, rank3):\n",
    "    if rank3 >= 9 or rank1 in [9,10]:\n",
    "        return 45\n",
    "    else:\n",
    "        return 24\n",
    "pred_y = test_X[['rank1','rank3']].apply(lambda x: score_button_rfi(*x), axis=1).astype(float)\n",
    "pred_y\n",
    "from sklearn.metrics import mean_squared_error\n",
    "score = np.sqrt(mean_squared_error(pred_y, test_y))\n",
    "print(\"final score:\", score)"
   ]
  },
  {
   "cell_type": "code",
   "execution_count": 141,
   "metadata": {},
   "outputs": [
    {
     "name": "stdout",
     "output_type": "stream",
     "text": [
      "32.52421652421653 0.3342857142857143\n"
     ]
    },
    {
     "data": {
      "text/plain": [
       "24.51502145922747"
      ]
     },
     "execution_count": 141,
     "metadata": {},
     "output_type": "execute_result"
    }
   ],
   "source": [
    "choice = temp_df_new.loc[temp_df_new['rank1'].isin([2,3,4,5,6,7,8,14])]\n",
    "print(choice['cat4_flop_bluff_second'].mean(), choice.shape[0] / temp_df_new.shape[0])\n",
    "\n",
    "choice = temp_df_new.loc[temp_df_new['rank1'] <= 10]\n",
    "print(choice['cat4_flop_bluff_second'].mean(), choice.shape[0] / temp_df_new.shape[0])\n",
    "temp_df_new.loc[~(temp_df_new['rank1'] <= 10)]['cat4_flop_bluff_second'].mean()\n",
    "\n"
   ]
  },
  {
   "cell_type": "code",
   "execution_count": 30,
   "metadata": {},
   "outputs": [
    {
     "name": "stdout",
     "output_type": "stream",
     "text": [
      "                                           Plots for rank1                                            \n",
      "                                           Train data plots                                           \n"
     ]
    },
    {
     "name": "stderr",
     "output_type": "stream",
     "text": [
      "\n",
      "A value is trying to be set on a copy of a slice from a DataFrame.\n",
      "Try using .loc[row_indexer,col_indexer] = value instead\n",
      "\n",
      "See the caveats in the documentation: https://pandas.pydata.org/pandas-docs/stable/user_guide/indexing.html#returning-a-view-versus-a-copy\n"
     ]
    },
    {
     "data": {
      "image/png": "[encoded data removed]",
      "text/plain": [
       "<Figure size 864x360 with 2 Axes>"
      ]
     },
     "metadata": {
      "needs_background": "light"
     },
     "output_type": "display_data"
    },
    {
     "name": "stdout",
     "output_type": "stream",
     "text": [
      "                                           Test data plots                                            \n"
     ]
    },
    {
     "data": {
      "image/png": "[encoded data removed]",
      "text/plain": [
       "<Figure size 864x360 with 2 Axes>"
      ]
     },
     "metadata": {
      "needs_background": "light"
     },
     "output_type": "display_data"
    },
    {
     "name": "stdout",
     "output_type": "stream",
     "text": [
      "--------------------------------------------------------------------------------------------------------------\n",
      "\n",
      "\n"
     ]
    }
   ],
   "source": [
    "from featexp import get_univariate_plots\n",
    "\n",
    "get_univariate_plots(data=train, target_col='target', data_test=test, features_list=['rank1'])\n",
    "\n"
   ]
  },
  {
   "cell_type": "code",
   "execution_count": 16,
   "metadata": {},
   "outputs": [
    {
     "data": {
      "text/plain": [
       "Villain SB RFI and You BB Call       1714\n",
       "Villain BN RFI and You BB Call       1699\n",
       "SB RFI                               1691\n",
       "BN RFI                               1685\n",
       "HJ RFI                               1664\n",
       "CO RFI and You BB Call               1664\n",
       "You RFI, get 3Bet and you Call       1653\n",
       "LJ RFI                               1639\n",
       "Villain RFI and You Call (Not BB)    1633\n",
       "Villain HJ RFI and You BB Call       1632\n",
       "Villain LJ RFI and You BB Call       1631\n",
       "CO RFI                               1625\n",
       "Name: position, dtype: int64"
      ]
     },
     "execution_count": 16,
     "metadata": {},
     "output_type": "execute_result"
    }
   ],
   "source": [
    "temp_df['position'].value_counts()"
   ]
  },
  {
   "cell_type": "code",
   "execution_count": null,
   "metadata": {},
   "outputs": [],
   "source": [
    "temp_df_new = temp_df[temp_df[\"position\"] == \"LJ RFI\"].drop([\"position\"], axis=1) # [[\"rank1\", \"my_position_ip\", \"target\"]]\n",
    "X_new = temp_df_new.drop([\"target\"], axis=1)\n",
    "y = temp_df_new[[\"target\"]]\n",
    "\n",
    "ys = []\n",
    "for index, row in test_X.iterrows():\n",
    "    ys.append(18)\n",
    "#     if row['rank1'] <= 10 or row['is_paired']:\n",
    "#         ys.append(17)\n",
    "#     elif row['rank2'] <= 8:\n",
    "#         ys.append(18)\n",
    "#     else:\n",
    "#         ys.append(19)\n",
    "        \n",
    "score = np.sqrt(mean_squared_error(ys, test_y))\n",
    "print(\"score:\", score)\n"
   ]
  },
  {
   "cell_type": "code",
   "execution_count": null,
   "metadata": {},
   "outputs": [],
   "source": [
    "# HJ RFI\n",
    "ys = []\n",
    "for index, row in X_new.iterrows():\n",
    "    if row['rank1'] <= 10 and rank2 <= :\n",
    "        if row['rank2'] <= 8:\n",
    "            ys.append(18)\n",
    "        else:\n",
    "            ys.append(19)\n",
    "    else:\n",
    "        ys.append(17)\n",
    "score = np.sqrt(mean_squared_error(ys, y))\n",
    "print(\"score:\", score)\n"
   ]
  },
  {
   "cell_type": "code",
   "execution_count": null,
   "metadata": {},
   "outputs": [],
   "source": []
  },
  {
   "cell_type": "markdown",
   "metadata": {},
   "source": [
    "Full rules:\n",
    "- Call:\n",
    "    - IP:\n",
    "        - A-K board: 15   (1%)\n",
    "        - else: 17    (1%)\n",
    "    - OOP:\n",
    "        - A-Q board: 8    (13%)\n",
    "        - else: 10     (11%)\n",
    "- PFR:\n",
    "    - IP:\n",
    "        - CO/BN: 17     (14%)\n",
    "        - else: 3        (6%)\n",
    "    - OOP:\n",
    "        - CO_BN_SB: 8     (7%)        \n",
    "        - else: 17      (46%)\n",
    "           \n",
    "                                \n",
    "## Simple rules:\n",
    "\n",
    "- Called: 10\n",
    "- Late IP: 17\n",
    "- Other IP: 3\n",
    "- Late OOP: 8\n",
    "- Else: 17\n",
    "\n",
    "\n"
   ]
  },
  {
   "cell_type": "code",
   "execution_count": 115,
   "metadata": {},
   "outputs": [
    {
     "name": "stdout",
     "output_type": "stream",
     "text": [
      "0 is_bb\n",
      "1 is_capped\n",
      "2 is_paired\n",
      "3 my_pfr\n",
      "4 my_position_ip\n",
      "5 range\n",
      "6 rank1\n",
      "7 rank2\n",
      "8 rank3\n",
      "9 tones\n",
      "10 top_range\n",
      "11 wide_rfi\n",
      "12 you_3b\n",
      "13 you_rfi_and_no_raise\n"
     ]
    }
   ],
   "source": [
    "for i, name in zip(range(len(X_new.columns)), X_new.columns):\n",
    "    print(i, name)\n",
    "\n",
    "\n"
   ]
  },
  {
   "cell_type": "code",
   "execution_count": null,
   "metadata": {},
   "outputs": [],
   "source": [
    "# from sklearn.tree import _tree\n",
    "\n",
    "# def tree_to_code(tree, train_X):\n",
    "#     lookup = {}\n",
    "#     unique, value = np.unique(clf2.apply(train_X), return_counts=True)\n",
    "#     for (x, y) in zip(unique, value):\n",
    "#         lookup[x] = y\n",
    "    \n",
    "#     feature_names = train_X.columns\n",
    "    \n",
    "#     tree_ = tree.tree_\n",
    "#     feature_name = [\n",
    "#         feature_names[i] if i != _tree.TREE_UNDEFINED else \"undefined!\"\n",
    "#         for i in tree_.feature\n",
    "#     ]\n",
    "#     print(\"def tree({}):\".format(\", \".join(feature_names)))\n",
    "\n",
    "#     def recurse(node, depth):\n",
    "#         indent = \"  \" * depth\n",
    "#         if tree_.feature[node] != _tree.TREE_UNDEFINED:\n",
    "#             name = feature_name[node]\n",
    "#             threshold = tree_.threshold[node]\n",
    "#             print(\"{}if {} <= {}:\".format(indent, name, threshold))\n",
    "#             recurse(tree_.children_left[node], depth + 1)\n",
    "#             print(\"{}else:  # if {} > {}\".format(indent, name, threshold))\n",
    "#             recurse(tree_.children_right[node], depth + 1)\n",
    "#         else:\n",
    "#             print(\"{}return {}\".format(indent, tree_.value[node]))\n",
    "\n",
    "#     recurse(0, 1)\n",
    "    \n",
    "# tree_to_code(clf2, train_X)  \n",
    "    \n",
    "# def extract_from_tree_size_1(dot_data, total_samples):\n",
    "#     significant_size = total_samples*0.1\n",
    "#     rule1 = remove_everything(dot_data.split(\";\")[1].split(\"\\\\n\")[0])\n",
    "#     samples1 = int(remove_everything(dot_data.split(\";\")[1].split(\"\\\\n\")[2]))\n",
    "#     value1 = round(float(remove_everything(dot_data.split(\";\")[1].split(\"\\\\n\")[3])))\n",
    "#     print(rule1, samples1, value1)\n",
    "\n",
    "#     samples2 = int(remove_everything(dot_data.split(\";\")[2].split(\"\\\\n\")[1]))\n",
    "#     value2 = round(float(remove_everything(dot_data.split(\";\")[2].split(\"\\\\n\")[2])))\n",
    "#     if samples2 >= significant_size:\n",
    "#         print(samples2, value2)\n",
    "\n",
    "#     samples3 = int(remove_everything(dot_data.split(\";\")[4].split(\"\\\\n\")[1]))\n",
    "#     value3 = round(float(remove_everything(dot_data.split(\";\")[4].split(\"\\\\n\")[2])))\n",
    "#     if samples3 >= significant_size:\n",
    "#         print(samples3, value3)\n",
    "        \n",
    "#     if samples2 >= significant_size:\n",
    "        \n",
    "    \n"
   ]
  }
 ],
 "metadata": {
  "kernelspec": {
   "display_name": "commons3",
   "language": "python",
   "name": "commons3"
  },
  "language_info": {
   "codemirror_mode": {
    "name": "ipython",
    "version": 3
   },
   "file_extension": ".py",
   "mimetype": "text/x-python",
   "name": "python",
   "nbconvert_exporter": "python",
   "pygments_lexer": "ipython3",
   "version": "3.8.5"
  },
  "toc": {
   "base_numbering": 1,
   "nav_menu": {},
   "number_sections": true,
   "sideBar": true,
   "skip_h1_title": false,
   "title_cell": "Table of Contents",
   "title_sidebar": "Contents",
   "toc_cell": false,
   "toc_position": {},
   "toc_section_display": true,
   "toc_window_display": false
  }
 },
 "nbformat": 4,
 "nbformat_minor": 2
}
