{
 "cells": [
  {
   "cell_type": "code",
   "execution_count": 9,
   "metadata": {},
   "outputs": [],
   "source": [
    "%matplotlib inline\n",
    "from sklearn.model_selection import train_test_split\n",
    "from xgboost import XGBClassifier, plot_tree\n",
    "from sklearn.preprocessing import StandardScaler\n",
    "from sklearn.metrics import accuracy_score, confusion_matrix, roc_auc_score, precision_recall_curve, auc, f1_score, log_loss, precision_score\n",
    "from pandas import DataFrame, concat\n",
    "from numpy.random import seed\n",
    "from imblearn.over_sampling import SMOTE\n",
    "from sklearn.feature_selection import SelectKBest, chi2, f_classif\n",
    "from sklearn.decomposition import PCA\n",
    "from catboost import CatBoostRegressor\n",
    "from catboost import Pool\n",
    "from graphviz import Source\n",
    "from sklearn.tree import export_graphviz\n",
    "from sklearn.preprocessing import PolynomialFeatures\n",
    "import shap\n",
    "import datetime\n",
    "import matplotlib.pyplot as plt\n",
    "from numpy import max\n",
    "from pandasql import sqldf\n",
    "from sklearn.metrics import roc_curve\n",
    "import numpy as np\n",
    "import pandas as pd\n",
    "experiment_model = CatBoostRegressor()\n",
    "df = pd.read_csv(\"../data/interim/train.csv\")\n"
   ]
  },
  {
   "cell_type": "code",
   "execution_count": 10,
   "metadata": {},
   "outputs": [
    {
     "data": {
      "image/png": "[encoded data removed]",
      "text/plain": [
       "<Figure size 864x504 with 1 Axes>"
      ]
     },
     "metadata": {
      "needs_background": "light"
     },
     "output_type": "display_data"
    }
   ],
   "source": [
    "\n",
    "seed(42)\n",
    "# temp_df = df.copy()\n",
    "temp_df = df.sample(100000)\n",
    "# temp_df = df[df[\"position\"] == \"BN RFI\"]\n",
    "# X = temp_df.drop([\"target\", \"position\"], axis=1)\n",
    "X = temp_df.drop([\"target\"], axis=1)\n",
    "y = temp_df[[\"target\"]]\n",
    "\n",
    "\n",
    "# X = X[important_columns]\n",
    "cat_features = [5]\n",
    "\n",
    "# Get shap dataframes\n",
    "X = DataFrame(X, columns=X.columns)\n",
    "\n",
    "# Fit the model on the training set\n",
    "experiment_model.fit(X, y, cat_features=cat_features, logging_level='Silent')\n",
    "\n",
    "feature_score = pd.DataFrame(list(zip(X.dtypes.index, experiment_model.get_feature_importance(Pool(X, label=y, cat_features=cat_features)))),\n",
    "                columns=['Feature','Score'])\n",
    "\n",
    "feature_score = feature_score.sort_values(by='Score', ascending=False, inplace=False, kind='quicksort', na_position='last')\n",
    "\n",
    "plt.rcParams[\"figure.figsize\"] = (12,7)\n",
    "ax = feature_score.plot('Feature', 'Score', kind='bar', color='c')\n",
    "ax.set_title(\"Catboost Feature Importance Ranking\", fontsize = 14)\n",
    "ax.set_xlabel('')\n",
    "\n",
    "rects = ax.patches\n",
    "\n",
    "labels = feature_score['Score'].round(2)\n",
    "\n",
    "for rect, label in zip(rects, labels):\n",
    "    height = rect.get_height()\n",
    "    ax.text(rect.get_x() + rect.get_width()/2, height + 0.35, label, ha='center', va='bottom')\n",
    "\n",
    "plt.show()\n"
   ]
  },
  {
   "cell_type": "code",
   "execution_count": 11,
   "metadata": {},
   "outputs": [
    {
     "name": "stdout",
     "output_type": "stream",
     "text": [
      "1.325678012363466\n"
     ]
    }
   ],
   "source": [
    "pred_y = experiment_model.predict(X)\n",
    "from sklearn.metrics import mean_squared_error\n",
    "score = np.sqrt(mean_squared_error(pred_y, y))\n",
    "print(score)"
   ]
  },
  {
   "cell_type": "code",
   "execution_count": 12,
   "metadata": {},
   "outputs": [
    {
     "name": "stdout",
     "output_type": "stream",
     "text": [
      "important_columns: ['position', 'rank1', 'my_position_ip', 'my_pfr', 'is_capped']\n"
     ]
    }
   ],
   "source": [
    "# Get important columns\n",
    "importance_threshold = 7\n",
    "important_columns = []\n",
    "for i, x in zip((feature_score['Score'].round(2) > importance_threshold).index, (feature_score['Score'].round(2) > importance_threshold)):\n",
    "    if x:\n",
    "        important_columns.append(X.columns[i])\n",
    "print(\"important_columns:\", important_columns)\n"
   ]
  },
  {
   "cell_type": "code",
   "execution_count": 13,
   "metadata": {
    "scrolled": true
   },
   "outputs": [
    {
     "ename": "CatBoostError",
     "evalue": "Bad value for num_feature[0,5]=\"LJ RFI\": Cannot convert 'b'LJ RFI'' to float",
     "output_type": "error",
     "traceback": [
      "\u001b[0;31m---------------------------------------------------------------------------\u001b[0m",
      "\u001b[0;31mTypeError\u001b[0m                                 Traceback (most recent call last)",
      "\u001b[0;32m_catboost.pyx\u001b[0m in \u001b[0;36m_catboost.get_float_feature\u001b[0;34m()\u001b[0m\n",
      "\u001b[0;32m_catboost.pyx\u001b[0m in \u001b[0;36m_catboost._FloatOrNan\u001b[0;34m()\u001b[0m\n",
      "\u001b[0;32m_catboost.pyx\u001b[0m in \u001b[0;36m_catboost._FloatOrNanFromString\u001b[0;34m()\u001b[0m\n",
      "\u001b[0;31mTypeError\u001b[0m: Cannot convert 'b'LJ RFI'' to float",
      "\nDuring handling of the above exception, another exception occurred:\n",
      "\u001b[0;31mCatBoostError\u001b[0m                             Traceback (most recent call last)",
      "\u001b[0;32m<ipython-input-13-80a3839a5199>\u001b[0m in \u001b[0;36m<module>\u001b[0;34m\u001b[0m\n\u001b[1;32m     20\u001b[0m \u001b[0;34m\u001b[0m\u001b[0m\n\u001b[1;32m     21\u001b[0m \u001b[0;31m# shap values\u001b[0m\u001b[0;34m\u001b[0m\u001b[0;34m\u001b[0m\u001b[0m\n\u001b[0;32m---> 22\u001b[0;31m \u001b[0mshap_values\u001b[0m \u001b[0;34m=\u001b[0m \u001b[0mshap\u001b[0m\u001b[0;34m.\u001b[0m\u001b[0mTreeExplainer\u001b[0m\u001b[0;34m(\u001b[0m\u001b[0mexperiment_model\u001b[0m\u001b[0;34m)\u001b[0m\u001b[0;34m.\u001b[0m\u001b[0mshap_values\u001b[0m\u001b[0;34m(\u001b[0m\u001b[0mX\u001b[0m\u001b[0;34m[\u001b[0m\u001b[0;36m0\u001b[0m\u001b[0;34m:\u001b[0m\u001b[0;36m10000\u001b[0m\u001b[0;34m]\u001b[0m\u001b[0;34m)\u001b[0m\u001b[0;34m\u001b[0m\u001b[0m\n\u001b[0m\u001b[1;32m     23\u001b[0m \u001b[0;34m\u001b[0m\u001b[0m\n\u001b[1;32m     24\u001b[0m \u001b[0msorted_feature_importance\u001b[0m \u001b[0;34m=\u001b[0m \u001b[0mpd\u001b[0m\u001b[0;34m.\u001b[0m\u001b[0mDataFrame\u001b[0m\u001b[0;34m(\u001b[0m\u001b[0mshap_values\u001b[0m\u001b[0;34m,\u001b[0m \u001b[0mcolumns\u001b[0m\u001b[0;34m=\u001b[0m\u001b[0mX\u001b[0m\u001b[0;34m.\u001b[0m\u001b[0mcolumns\u001b[0m\u001b[0;34m)\u001b[0m\u001b[0;34m.\u001b[0m\u001b[0mabs\u001b[0m\u001b[0;34m(\u001b[0m\u001b[0;34m)\u001b[0m\u001b[0;34m.\u001b[0m\u001b[0msum\u001b[0m\u001b[0;34m(\u001b[0m\u001b[0;34m)\u001b[0m\u001b[0;34m.\u001b[0m\u001b[0msort_values\u001b[0m\u001b[0;34m(\u001b[0m\u001b[0mascending\u001b[0m\u001b[0;34m=\u001b[0m\u001b[0;32mFalse\u001b[0m\u001b[0;34m)\u001b[0m\u001b[0;34m\u001b[0m\u001b[0m\n",
      "\u001b[0;32m~/Desktop/Code/commons/venv/lib/python3.6/site-packages/shap/explainers/tree.py\u001b[0m in \u001b[0;36mshap_values\u001b[0;34m(self, X, y, tree_limit, approximate)\u001b[0m\n\u001b[1;32m    189\u001b[0m                 \u001b[0;32massert\u001b[0m \u001b[0mtree_limit\u001b[0m \u001b[0;34m==\u001b[0m \u001b[0;34m-\u001b[0m\u001b[0;36m1\u001b[0m\u001b[0;34m,\u001b[0m \u001b[0;34m\"tree_limit is not yet supported for CatBoost models!\"\u001b[0m\u001b[0;34m\u001b[0m\u001b[0m\n\u001b[1;32m    190\u001b[0m                 \u001b[0;32mif\u001b[0m \u001b[0mtype\u001b[0m\u001b[0;34m(\u001b[0m\u001b[0mX\u001b[0m\u001b[0;34m)\u001b[0m \u001b[0;34m!=\u001b[0m \u001b[0mcatboost\u001b[0m\u001b[0;34m.\u001b[0m\u001b[0mPool\u001b[0m\u001b[0;34m:\u001b[0m\u001b[0;34m\u001b[0m\u001b[0m\n\u001b[0;32m--> 191\u001b[0;31m                     \u001b[0mX\u001b[0m \u001b[0;34m=\u001b[0m \u001b[0mcatboost\u001b[0m\u001b[0;34m.\u001b[0m\u001b[0mPool\u001b[0m\u001b[0;34m(\u001b[0m\u001b[0mX\u001b[0m\u001b[0;34m)\u001b[0m\u001b[0;34m\u001b[0m\u001b[0m\n\u001b[0m\u001b[1;32m    192\u001b[0m                 \u001b[0mphi\u001b[0m \u001b[0;34m=\u001b[0m \u001b[0mself\u001b[0m\u001b[0;34m.\u001b[0m\u001b[0mtrees\u001b[0m\u001b[0;34m.\u001b[0m\u001b[0mget_feature_importance\u001b[0m\u001b[0;34m(\u001b[0m\u001b[0mdata\u001b[0m\u001b[0;34m=\u001b[0m\u001b[0mX\u001b[0m\u001b[0;34m,\u001b[0m \u001b[0mfstr_type\u001b[0m\u001b[0;34m=\u001b[0m\u001b[0;34m'ShapValues'\u001b[0m\u001b[0;34m)\u001b[0m\u001b[0;34m\u001b[0m\u001b[0m\n\u001b[1;32m    193\u001b[0m \u001b[0;34m\u001b[0m\u001b[0m\n",
      "\u001b[0;32m~/Desktop/Code/commons/venv/lib/python3.6/site-packages/catboost/core.py\u001b[0m in \u001b[0;36m__init__\u001b[0;34m(self, data, label, cat_features, column_description, pairs, delimiter, has_header, weight, group_id, group_weight, subgroup_id, pairs_weight, baseline, feature_names, thread_count)\u001b[0m\n\u001b[1;32m    289\u001b[0m                         )\n\u001b[1;32m    290\u001b[0m \u001b[0;34m\u001b[0m\u001b[0m\n\u001b[0;32m--> 291\u001b[0;31m                 \u001b[0mself\u001b[0m\u001b[0;34m.\u001b[0m\u001b[0m_init\u001b[0m\u001b[0;34m(\u001b[0m\u001b[0mdata\u001b[0m\u001b[0;34m,\u001b[0m \u001b[0mlabel\u001b[0m\u001b[0;34m,\u001b[0m \u001b[0mcat_features\u001b[0m\u001b[0;34m,\u001b[0m \u001b[0mpairs\u001b[0m\u001b[0;34m,\u001b[0m \u001b[0mweight\u001b[0m\u001b[0;34m,\u001b[0m \u001b[0mgroup_id\u001b[0m\u001b[0;34m,\u001b[0m \u001b[0mgroup_weight\u001b[0m\u001b[0;34m,\u001b[0m \u001b[0msubgroup_id\u001b[0m\u001b[0;34m,\u001b[0m \u001b[0mpairs_weight\u001b[0m\u001b[0;34m,\u001b[0m \u001b[0mbaseline\u001b[0m\u001b[0;34m,\u001b[0m \u001b[0mfeature_names\u001b[0m\u001b[0;34m)\u001b[0m\u001b[0;34m\u001b[0m\u001b[0m\n\u001b[0m\u001b[1;32m    292\u001b[0m         \u001b[0msuper\u001b[0m\u001b[0;34m(\u001b[0m\u001b[0mPool\u001b[0m\u001b[0;34m,\u001b[0m \u001b[0mself\u001b[0m\u001b[0;34m)\u001b[0m\u001b[0;34m.\u001b[0m\u001b[0m__init__\u001b[0m\u001b[0;34m(\u001b[0m\u001b[0;34m)\u001b[0m\u001b[0;34m\u001b[0m\u001b[0m\n\u001b[1;32m    293\u001b[0m \u001b[0;34m\u001b[0m\u001b[0m\n",
      "\u001b[0;32m~/Desktop/Code/commons/venv/lib/python3.6/site-packages/catboost/core.py\u001b[0m in \u001b[0;36m_init\u001b[0;34m(self, data, label, cat_features, pairs, weight, group_id, group_weight, subgroup_id, pairs_weight, baseline, feature_names)\u001b[0m\n\u001b[1;32m    644\u001b[0m         \u001b[0;32mif\u001b[0m \u001b[0mfeature_names\u001b[0m \u001b[0;32mis\u001b[0m \u001b[0;32mnot\u001b[0m \u001b[0;32mNone\u001b[0m\u001b[0;34m:\u001b[0m\u001b[0;34m\u001b[0m\u001b[0m\n\u001b[1;32m    645\u001b[0m             \u001b[0mself\u001b[0m\u001b[0;34m.\u001b[0m\u001b[0m_check_feature_names\u001b[0m\u001b[0;34m(\u001b[0m\u001b[0mfeature_names\u001b[0m\u001b[0;34m,\u001b[0m \u001b[0mfeatures_count\u001b[0m\u001b[0;34m)\u001b[0m\u001b[0;34m\u001b[0m\u001b[0m\n\u001b[0;32m--> 646\u001b[0;31m         \u001b[0mself\u001b[0m\u001b[0;34m.\u001b[0m\u001b[0m_init_pool\u001b[0m\u001b[0;34m(\u001b[0m\u001b[0mdata\u001b[0m\u001b[0;34m,\u001b[0m \u001b[0mlabel\u001b[0m\u001b[0;34m,\u001b[0m \u001b[0mcat_features\u001b[0m\u001b[0;34m,\u001b[0m \u001b[0mpairs\u001b[0m\u001b[0;34m,\u001b[0m \u001b[0mweight\u001b[0m\u001b[0;34m,\u001b[0m \u001b[0mgroup_id\u001b[0m\u001b[0;34m,\u001b[0m \u001b[0mgroup_weight\u001b[0m\u001b[0;34m,\u001b[0m \u001b[0msubgroup_id\u001b[0m\u001b[0;34m,\u001b[0m \u001b[0mpairs_weight\u001b[0m\u001b[0;34m,\u001b[0m \u001b[0mbaseline\u001b[0m\u001b[0;34m,\u001b[0m \u001b[0mfeature_names\u001b[0m\u001b[0;34m)\u001b[0m\u001b[0;34m\u001b[0m\u001b[0m\n\u001b[0m\u001b[1;32m    647\u001b[0m \u001b[0;34m\u001b[0m\u001b[0m\n\u001b[1;32m    648\u001b[0m \u001b[0;34m\u001b[0m\u001b[0m\n",
      "\u001b[0;32m_catboost.pyx\u001b[0m in \u001b[0;36m_catboost._PoolBase._init_pool\u001b[0;34m()\u001b[0m\n",
      "\u001b[0;32m_catboost.pyx\u001b[0m in \u001b[0;36m_catboost._PoolBase._init_pool\u001b[0;34m()\u001b[0m\n",
      "\u001b[0;32m_catboost.pyx\u001b[0m in \u001b[0;36m_catboost._PoolBase._init_features_order_layout_pool\u001b[0;34m()\u001b[0m\n",
      "\u001b[0;32m_catboost.pyx\u001b[0m in \u001b[0;36m_catboost._set_features_order_data_pd_data_frame\u001b[0;34m()\u001b[0m\n",
      "\u001b[0;32m_catboost.pyx\u001b[0m in \u001b[0;36m_catboost.create_num_factor_data\u001b[0;34m()\u001b[0m\n",
      "\u001b[0;32m_catboost.pyx\u001b[0m in \u001b[0;36m_catboost.get_float_feature\u001b[0;34m()\u001b[0m\n",
      "\u001b[0;31mCatBoostError\u001b[0m: Bad value for num_feature[0,5]=\"LJ RFI\": Cannot convert 'b'LJ RFI'' to float"
     ]
    }
   ],
   "source": [
    "import numpy as np\n",
    "from pandas import read_csv\n",
    "from numpy.random import seed\n",
    "from sklearn.pipeline import Pipeline, FeatureUnion\n",
    "from sklearn.preprocessing import StandardScaler, MinMaxScaler, \\\n",
    "                                  OneHotEncoder\n",
    "from sklearn.impute import SimpleImputer\n",
    "from sklearn.base import BaseEstimator, TransformerMixin\n",
    "import warnings\n",
    "import matplotlib.pyplot as plt\n",
    "from sklearn.preprocessing import KBinsDiscretizer\n",
    "warnings.filterwarnings(\"ignore\")\n",
    "\n",
    "import shap\n",
    "import pandas as pd\n",
    "from numpy import cumsum\n",
    "from xgboost import XGBClassifier\n",
    "\n",
    "seed(40)\n",
    "\n",
    "# shap values\n",
    "shap_values = shap.TreeExplainer(experiment_model).shap_values(X[0:10000])\n",
    "\n",
    "sorted_feature_importance = pd.DataFrame(shap_values, columns=X.columns).abs().sum().sort_values(ascending=False)\n",
    "cumulative_sum = cumsum([y for (x,y) in sorted_feature_importance.reset_index().values])\n",
    "gt_999_importance = cumulative_sum / cumulative_sum[-1] > .999\n",
    "nth_feature = min([y for (x,y) in zip(gt_999_importance, zip(range(len(gt_999_importance)))) if x])[0]\n",
    "important_columns = sorted_feature_importance.iloc[0:nth_feature+1].index.values.tolist()\n",
    "print(important_columns)\n",
    "\n",
    "plt.clf()\n",
    "shap.summary_plot(shap_values, X[0:10000])\n",
    "\n"
   ]
  },
  {
   "cell_type": "markdown",
   "metadata": {},
   "source": [
    "- Primary\n",
    "    - **When IP:** Lower\n",
    "- Secondary\n",
    "    - **If Capped Range**: Lower\n",
    "    - **You have a wide range**: Lower    \n",
    "    - **If RFI and No Raisers**: Higher\n",
    "    - **High Rank1**: Higher\n"
   ]
  },
  {
   "cell_type": "markdown",
   "metadata": {},
   "source": [
    "## Decision Tree with these 5 features"
   ]
  },
  {
   "cell_type": "code",
   "execution_count": null,
   "metadata": {},
   "outputs": [],
   "source": [
    "def remove_everything(string):\n",
    "    return string.replace(\"\\n0 [\",\"\").replace(\"label=\\\"\",\"\").replace('\"] ', '').replace('value = ', ''). \\\n",
    "                  replace('10.5', 'T'). \\\n",
    "                  replace('11.5', 'J'). \\\n",
    "                  replace('12.5', 'Q'). \\\n",
    "                  replace('13.5', 'K'). \\\n",
    "                  replace('samples = ', '')\n"
   ]
  },
  {
   "cell_type": "code",
   "execution_count": null,
   "metadata": {},
   "outputs": [],
   "source": [
    "print(dot_data)"
   ]
  },
  {
   "cell_type": "code",
   "execution_count": null,
   "metadata": {},
   "outputs": [],
   "source": [
    "dot_data.split(\";\")[2].split(\"\\\\n\")[3]"
   ]
  },
  {
   "cell_type": "code",
   "execution_count": null,
   "metadata": {},
   "outputs": [],
   "source": [
    "remove_everything(dot_data.split(\";\")[2][5:].split(\"\\\\n\")[1])"
   ]
  },
  {
   "cell_type": "code",
   "execution_count": null,
   "metadata": {},
   "outputs": [],
   "source": [
    "clf2.tree_.samples[0]"
   ]
  },
  {
   "cell_type": "code",
   "execution_count": 14,
   "metadata": {},
   "outputs": [],
   "source": [
    "temp_df = df.sample(2000000)"
   ]
  },
  {
   "cell_type": "code",
   "execution_count": 15,
   "metadata": {},
   "outputs": [
    {
     "name": "stdout",
     "output_type": "stream",
     "text": [
      "score: 3.5342863433003755\n",
      "score: 2.558621645931205\n",
      "score: 2.3731605142243013\n",
      "score: 2.3731605142243013\n",
      "score: 2.3731605142243013\n",
      "score: 2.3731605142243013\n",
      "score: 2.3731605142243013\n"
     ]
    },
    {
     "data": {
      "image/svg+xml": [
       "<?xml version=\"1.0\" encoding=\"UTF-8\" standalone=\"no\"?>\n",
       "<!DOCTYPE svg PUBLIC \"-//W3C//DTD SVG 1.1//EN\"\n",
       " \"http://www.w3.org/Graphics/SVG/1.1/DTD/svg11.dtd\">\n",
       "<!-- Generated by graphviz version 2.40.1 (20161225.0304)\n",
       " -->\n",
       "<!-- Title: Tree Pages: 1 -->\n",
       "<svg width=\"498pt\" height=\"358pt\"\n",
       " viewBox=\"0.00 0.00 498.50 358.00\" xmlns=\"http://www.w3.org/2000/svg\" xmlns:xlink=\"http://www.w3.org/1999/xlink\">\n",
       "<g id=\"graph0\" class=\"graph\" transform=\"scale(1 1) rotate(0) translate(4 354)\">\n",
       "<title>Tree</title>\n",
       "<polygon fill=\"#ffffff\" stroke=\"transparent\" points=\"-4,4 -4,-354 494.499,-354 494.499,4 -4,4\"/>\n",
       "<!-- 0 -->\n",
       "<g id=\"node1\" class=\"node\">\n",
       "<title>0</title>\n",
       "<polygon fill=\"none\" stroke=\"#000000\" points=\"296.4985,-350 185.5005,-350 185.5005,-286 296.4985,-286 296.4985,-350\"/>\n",
       "<text text-anchor=\"middle\" x=\"240.9995\" y=\"-334.8\" font-family=\"Times,serif\" font-size=\"14.00\" fill=\"#000000\">rank1 &lt;= 10.5</text>\n",
       "<text text-anchor=\"middle\" x=\"240.9995\" y=\"-320.8\" font-family=\"Times,serif\" font-size=\"14.00\" fill=\"#000000\">mse = 15.416</text>\n",
       "<text text-anchor=\"middle\" x=\"240.9995\" y=\"-306.8\" font-family=\"Times,serif\" font-size=\"14.00\" fill=\"#000000\">samples = 57189</text>\n",
       "<text text-anchor=\"middle\" x=\"240.9995\" y=\"-292.8\" font-family=\"Times,serif\" font-size=\"14.00\" fill=\"#000000\">value = 13.503</text>\n",
       "</g>\n",
       "<!-- 1 -->\n",
       "<g id=\"node2\" class=\"node\">\n",
       "<title>1</title>\n",
       "<polygon fill=\"none\" stroke=\"#000000\" points=\"232.4985,-250 121.5005,-250 121.5005,-186 232.4985,-186 232.4985,-250\"/>\n",
       "<text text-anchor=\"middle\" x=\"176.9995\" y=\"-234.8\" font-family=\"Times,serif\" font-size=\"14.00\" fill=\"#000000\">rank1 &lt;= 6.5</text>\n",
       "<text text-anchor=\"middle\" x=\"176.9995\" y=\"-220.8\" font-family=\"Times,serif\" font-size=\"14.00\" fill=\"#000000\">mse = 8.938</text>\n",
       "<text text-anchor=\"middle\" x=\"176.9995\" y=\"-206.8\" font-family=\"Times,serif\" font-size=\"14.00\" fill=\"#000000\">samples = 18891</text>\n",
       "<text text-anchor=\"middle\" x=\"176.9995\" y=\"-192.8\" font-family=\"Times,serif\" font-size=\"14.00\" fill=\"#000000\">value = 11.118</text>\n",
       "</g>\n",
       "<!-- 0&#45;&gt;1 -->\n",
       "<g id=\"edge1\" class=\"edge\">\n",
       "<title>0&#45;&gt;1</title>\n",
       "<path fill=\"none\" stroke=\"#000000\" d=\"M220.3972,-285.8089C214.8589,-277.1553 208.7966,-267.683 203.0059,-258.635\"/>\n",
       "<polygon fill=\"#000000\" stroke=\"#000000\" points=\"205.9017,-256.6668 197.5632,-250.1308 200.0058,-260.4402 205.9017,-256.6668\"/>\n",
       "<text text-anchor=\"middle\" x=\"192.203\" y=\"-270.3494\" font-family=\"Times,serif\" font-size=\"14.00\" fill=\"#000000\">True</text>\n",
       "</g>\n",
       "<!-- 4 -->\n",
       "<g id=\"node5\" class=\"node\">\n",
       "<title>4</title>\n",
       "<polygon fill=\"none\" stroke=\"#000000\" points=\"361.4985,-250 250.5005,-250 250.5005,-186 361.4985,-186 361.4985,-250\"/>\n",
       "<text text-anchor=\"middle\" x=\"305.9995\" y=\"-234.8\" font-family=\"Times,serif\" font-size=\"14.00\" fill=\"#000000\">rank1 &lt;= 13.5</text>\n",
       "<text text-anchor=\"middle\" x=\"305.9995\" y=\"-220.8\" font-family=\"Times,serif\" font-size=\"14.00\" fill=\"#000000\">mse = 14.423</text>\n",
       "<text text-anchor=\"middle\" x=\"305.9995\" y=\"-206.8\" font-family=\"Times,serif\" font-size=\"14.00\" fill=\"#000000\">samples = 38298</text>\n",
       "<text text-anchor=\"middle\" x=\"305.9995\" y=\"-192.8\" font-family=\"Times,serif\" font-size=\"14.00\" fill=\"#000000\">value = 14.679</text>\n",
       "</g>\n",
       "<!-- 0&#45;&gt;4 -->\n",
       "<g id=\"edge4\" class=\"edge\">\n",
       "<title>0&#45;&gt;4</title>\n",
       "<path fill=\"none\" stroke=\"#000000\" d=\"M261.9237,-285.8089C267.5486,-277.1553 273.7056,-267.683 279.5867,-258.635\"/>\n",
       "<polygon fill=\"#000000\" stroke=\"#000000\" points=\"282.5991,-260.4227 285.1145,-250.1308 276.73,-256.6077 282.5991,-260.4227\"/>\n",
       "<text text-anchor=\"middle\" x=\"290.3021\" y=\"-270.3866\" font-family=\"Times,serif\" font-size=\"14.00\" fill=\"#000000\">False</text>\n",
       "</g>\n",
       "<!-- 2 -->\n",
       "<g id=\"node3\" class=\"node\">\n",
       "<title>2</title>\n",
       "<polygon fill=\"none\" stroke=\"#000000\" points=\"103.9985,-143 .0005,-143 .0005,-93 103.9985,-93 103.9985,-143\"/>\n",
       "<text text-anchor=\"middle\" x=\"51.9995\" y=\"-127.8\" font-family=\"Times,serif\" font-size=\"14.00\" fill=\"#000000\">mse = 1.504</text>\n",
       "<text text-anchor=\"middle\" x=\"51.9995\" y=\"-113.8\" font-family=\"Times,serif\" font-size=\"14.00\" fill=\"#000000\">samples = 3295</text>\n",
       "<text text-anchor=\"middle\" x=\"51.9995\" y=\"-99.8\" font-family=\"Times,serif\" font-size=\"14.00\" fill=\"#000000\">value = 15.032</text>\n",
       "</g>\n",
       "<!-- 1&#45;&gt;2 -->\n",
       "<g id=\"edge2\" class=\"edge\">\n",
       "<title>1&#45;&gt;2</title>\n",
       "<path fill=\"none\" stroke=\"#000000\" d=\"M136.7607,-185.8089C122.1878,-174.1506 105.7576,-161.0064 91.2692,-149.4157\"/>\n",
       "<polygon fill=\"#000000\" stroke=\"#000000\" points=\"93.4391,-146.6695 83.4439,-143.1555 89.0662,-152.1356 93.4391,-146.6695\"/>\n",
       "</g>\n",
       "<!-- 3 -->\n",
       "<g id=\"node4\" class=\"node\">\n",
       "<title>3</title>\n",
       "<polygon fill=\"none\" stroke=\"#000000\" points=\"232.4985,-143 121.5005,-143 121.5005,-93 232.4985,-93 232.4985,-143\"/>\n",
       "<text text-anchor=\"middle\" x=\"176.9995\" y=\"-127.8\" font-family=\"Times,serif\" font-size=\"14.00\" fill=\"#000000\">mse = 6.588</text>\n",
       "<text text-anchor=\"middle\" x=\"176.9995\" y=\"-113.8\" font-family=\"Times,serif\" font-size=\"14.00\" fill=\"#000000\">samples = 15596</text>\n",
       "<text text-anchor=\"middle\" x=\"176.9995\" y=\"-99.8\" font-family=\"Times,serif\" font-size=\"14.00\" fill=\"#000000\">value = 10.291</text>\n",
       "</g>\n",
       "<!-- 1&#45;&gt;3 -->\n",
       "<g id=\"edge3\" class=\"edge\">\n",
       "<title>1&#45;&gt;3</title>\n",
       "<path fill=\"none\" stroke=\"#000000\" d=\"M176.9995,-185.8089C176.9995,-175.446 176.9995,-163.909 176.9995,-153.3327\"/>\n",
       "<polygon fill=\"#000000\" stroke=\"#000000\" points=\"180.4996,-153.1555 176.9995,-143.1555 173.4996,-153.1556 180.4996,-153.1555\"/>\n",
       "</g>\n",
       "<!-- 5 -->\n",
       "<g id=\"node6\" class=\"node\">\n",
       "<title>5</title>\n",
       "<polygon fill=\"none\" stroke=\"#000000\" points=\"361.4985,-150 250.5005,-150 250.5005,-86 361.4985,-86 361.4985,-150\"/>\n",
       "<text text-anchor=\"middle\" x=\"305.9995\" y=\"-134.8\" font-family=\"Times,serif\" font-size=\"14.00\" fill=\"#000000\">rank1 &lt;= 12.5</text>\n",
       "<text text-anchor=\"middle\" x=\"305.9995\" y=\"-120.8\" font-family=\"Times,serif\" font-size=\"14.00\" fill=\"#000000\">mse = 5.505</text>\n",
       "<text text-anchor=\"middle\" x=\"305.9995\" y=\"-106.8\" font-family=\"Times,serif\" font-size=\"14.00\" fill=\"#000000\">samples = 26042</text>\n",
       "<text text-anchor=\"middle\" x=\"305.9995\" y=\"-92.8\" font-family=\"Times,serif\" font-size=\"14.00\" fill=\"#000000\">value = 16.529</text>\n",
       "</g>\n",
       "<!-- 4&#45;&gt;5 -->\n",
       "<g id=\"edge5\" class=\"edge\">\n",
       "<title>4&#45;&gt;5</title>\n",
       "<path fill=\"none\" stroke=\"#000000\" d=\"M305.9995,-185.8089C305.9995,-177.6906 305.9995,-168.8517 305.9995,-160.3186\"/>\n",
       "<polygon fill=\"#000000\" stroke=\"#000000\" points=\"309.4996,-160.1307 305.9995,-150.1308 302.4996,-160.1308 309.4996,-160.1307\"/>\n",
       "</g>\n",
       "<!-- 8 -->\n",
       "<g id=\"node9\" class=\"node\">\n",
       "<title>8</title>\n",
       "<polygon fill=\"none\" stroke=\"#000000\" points=\"490.4985,-143 379.5005,-143 379.5005,-93 490.4985,-93 490.4985,-143\"/>\n",
       "<text text-anchor=\"middle\" x=\"434.9995\" y=\"-127.8\" font-family=\"Times,serif\" font-size=\"14.00\" fill=\"#000000\">mse = 10.647</text>\n",
       "<text text-anchor=\"middle\" x=\"434.9995\" y=\"-113.8\" font-family=\"Times,serif\" font-size=\"14.00\" fill=\"#000000\">samples = 12256</text>\n",
       "<text text-anchor=\"middle\" x=\"434.9995\" y=\"-99.8\" font-family=\"Times,serif\" font-size=\"14.00\" fill=\"#000000\">value = 10.748</text>\n",
       "</g>\n",
       "<!-- 4&#45;&gt;8 -->\n",
       "<g id=\"edge8\" class=\"edge\">\n",
       "<title>4&#45;&gt;8</title>\n",
       "<path fill=\"none\" stroke=\"#000000\" d=\"M347.526,-185.8089C362.5652,-174.1506 379.5212,-161.0064 394.4732,-149.4157\"/>\n",
       "<polygon fill=\"#000000\" stroke=\"#000000\" points=\"396.7898,-152.0485 402.5489,-143.1555 392.5011,-146.5161 396.7898,-152.0485\"/>\n",
       "</g>\n",
       "<!-- 6 -->\n",
       "<g id=\"node7\" class=\"node\">\n",
       "<title>6</title>\n",
       "<polygon fill=\"none\" stroke=\"#000000\" points=\"296.4985,-50 185.5005,-50 185.5005,0 296.4985,0 296.4985,-50\"/>\n",
       "<text text-anchor=\"middle\" x=\"240.9995\" y=\"-34.8\" font-family=\"Times,serif\" font-size=\"14.00\" fill=\"#000000\">mse = 2.819</text>\n",
       "<text text-anchor=\"middle\" x=\"240.9995\" y=\"-20.8\" font-family=\"Times,serif\" font-size=\"14.00\" fill=\"#000000\">samples = 15590</text>\n",
       "<text text-anchor=\"middle\" x=\"240.9995\" y=\"-6.8\" font-family=\"Times,serif\" font-size=\"14.00\" fill=\"#000000\">value = 17.687</text>\n",
       "</g>\n",
       "<!-- 5&#45;&gt;6 -->\n",
       "<g id=\"edge6\" class=\"edge\">\n",
       "<title>5&#45;&gt;6</title>\n",
       "<path fill=\"none\" stroke=\"#000000\" d=\"M283.6302,-85.9947C277.3965,-77.0756 270.6102,-67.3661 264.3231,-58.3706\"/>\n",
       "<polygon fill=\"#000000\" stroke=\"#000000\" points=\"267.08,-56.2054 258.4824,-50.014 261.3424,-60.2156 267.08,-56.2054\"/>\n",
       "</g>\n",
       "<!-- 7 -->\n",
       "<g id=\"node8\" class=\"node\">\n",
       "<title>7</title>\n",
       "<polygon fill=\"none\" stroke=\"#000000\" points=\"425.4985,-50 314.5005,-50 314.5005,0 425.4985,0 425.4985,-50\"/>\n",
       "<text text-anchor=\"middle\" x=\"369.9995\" y=\"-34.8\" font-family=\"Times,serif\" font-size=\"14.00\" fill=\"#000000\">mse = 4.531</text>\n",
       "<text text-anchor=\"middle\" x=\"369.9995\" y=\"-20.8\" font-family=\"Times,serif\" font-size=\"14.00\" fill=\"#000000\">samples = 10452</text>\n",
       "<text text-anchor=\"middle\" x=\"369.9995\" y=\"-6.8\" font-family=\"Times,serif\" font-size=\"14.00\" fill=\"#000000\">value = 14.802</text>\n",
       "</g>\n",
       "<!-- 5&#45;&gt;7 -->\n",
       "<g id=\"edge7\" class=\"edge\">\n",
       "<title>5&#45;&gt;7</title>\n",
       "<path fill=\"none\" stroke=\"#000000\" d=\"M328.0247,-85.9947C334.1625,-77.0756 340.8443,-67.3661 347.0348,-58.3706\"/>\n",
       "<polygon fill=\"#000000\" stroke=\"#000000\" points=\"349.9997,-60.2361 352.7856,-50.014 344.2332,-56.2677 349.9997,-60.2361\"/>\n",
       "</g>\n",
       "</g>\n",
       "</svg>\n"
      ],
      "text/plain": [
       "<graphviz.files.Source at 0x1132fb1d0>"
      ]
     },
     "execution_count": 15,
     "metadata": {},
     "output_type": "execute_result"
    }
   ],
   "source": [
    "# Get important columns\n",
    "# importance_threshold = 9\n",
    "# important_columns = []\n",
    "# for i, x in zip((feature_score['Score'].round(2) > importance_threshold).index, (feature_score['Score'].round(2) > importance_threshold)):\n",
    "#     if x:\n",
    "#         important_columns.append(X.columns[i])\n",
    "# print(\"important_columns:\", important_columns)\n",
    "\n",
    "\n",
    "temp_df_new = temp_df[temp_df[\"position\"] == \"Villain LJ RFI and You BB Call\"].drop([\"position\", \"range\", \"top_range\"], axis=1) # [[\"rank1\", \"my_position_ip\", \"target\"]]\n",
    "\n",
    "train, test = train_test_split(temp_df_new, test_size=0.40)\n",
    "\n",
    "\n",
    "train_X = train.drop([\"target\"], axis=1)\n",
    "train_y = train[[\"target\"]]\n",
    "test_X = test.drop([\"target\"], axis=1)\n",
    "test_y = test[[\"target\"]]\n",
    "min_samples_split = int(train_X.shape[0]*0.3)\n",
    "\n",
    "\n",
    "from graphviz import Source\n",
    "from sklearn.tree import export_graphviz\n",
    "from sklearn import tree, linear_model\n",
    "%matplotlib inline\n",
    "for i in range(1,7):\n",
    "    clf2 = tree.DecisionTreeRegressor(max_depth=i, min_samples_split=min_samples_split)\n",
    "    clf2.fit(train_X, train_y)\n",
    "    pred_y = clf2.predict(test_X)\n",
    "    from sklearn.metrics import mean_squared_error\n",
    "    score = np.sqrt(mean_squared_error(pred_y, test_y))\n",
    "    print(\"score:\", score)\n",
    "    # clf2.coef_\n",
    "\n",
    "CHOICE = 5\n",
    "\n",
    "clf2 = tree.DecisionTreeRegressor(max_depth=CHOICE, min_samples_split=min_samples_split)\n",
    "clf2.fit(train_X, train_y)\n",
    "pred_y = clf2.predict(train_X)\n",
    "from sklearn.metrics import mean_squared_error\n",
    "print(\"score:\", score)\n",
    "dot_data = export_graphviz(clf2, out_file=None, feature_names=train_X.columns)\n",
    "graph = Source(dot_data)\n",
    "graph.render(\"graph\")        \n",
    "graph\n",
    "# clf2.coef_    \n"
   ]
  },
  {
   "cell_type": "code",
   "execution_count": 16,
   "metadata": {},
   "outputs": [
    {
     "data": {
      "text/plain": [
       "CO RFI                               143349\n",
       "Villain LJ RFI and You BB 3Bet       142984\n",
       "SB RFI                               142751\n",
       "LJ RFI                               142741\n",
       "HJ RFI                               142657\n",
       "BN RFI                               142610\n",
       "Villain HJ RFI and You BB 3Bet        95447\n",
       "Villain BN RFI and You SB 3Bet        95390\n",
       "Villain RFI and You 3Bet (Not BB)     95317\n",
       "Villain LJ RFI and You BB Call        95316\n",
       "Villain BN RFI and You BB Call        95285\n",
       "Villain HJ RFI and You BB Call        95262\n",
       "Villain CO RFI and You BB 3Bet        95231\n",
       "Villain SB RFI and You BB Call        95220\n",
       "CO RFI and You BB Call                95190\n",
       "Villain BN RFI and You BB 3Bet        95062\n",
       "Villain SB RFI and You BB 3Bet        95046\n",
       "Villain RFI and You Call (Not BB)     23971\n",
       "You RFI, get 3Bet and you Call        23749\n",
       "You RFI, get 3Bet and you 4Bet        23748\n",
       "You Cold 4Bet                         23674\n",
       "Name: position, dtype: int64"
      ]
     },
     "execution_count": 16,
     "metadata": {},
     "output_type": "execute_result"
    }
   ],
   "source": [
    "temp_df['position'].value_counts()"
   ]
  },
  {
   "cell_type": "code",
   "execution_count": null,
   "metadata": {},
   "outputs": [],
   "source": [
    "temp_df_new = temp_df[temp_df[\"position\"] == \"LJ RFI\"].drop([\"position\"], axis=1) # [[\"rank1\", \"my_position_ip\", \"target\"]]\n",
    "X_new = temp_df_new.drop([\"target\"], axis=1)\n",
    "y = temp_df_new[[\"target\"]]\n",
    "\n",
    "ys = []\n",
    "for index, row in test_X.iterrows():\n",
    "    ys.append(18)\n",
    "#     if row['rank1'] <= 10 or row['is_paired']:\n",
    "#         ys.append(17)\n",
    "#     elif row['rank2'] <= 8:\n",
    "#         ys.append(18)\n",
    "#     else:\n",
    "#         ys.append(19)\n",
    "        \n",
    "score = np.sqrt(mean_squared_error(ys, test_y))\n",
    "print(\"score:\", score)\n"
   ]
  },
  {
   "cell_type": "code",
   "execution_count": null,
   "metadata": {},
   "outputs": [],
   "source": [
    "# HJ RFI\n",
    "ys = []\n",
    "for index, row in X_new.iterrows():\n",
    "    if row['rank1'] <= 10 and rank2 <= :\n",
    "        if row['rank2'] <= 8:\n",
    "            ys.append(18)\n",
    "        else:\n",
    "            ys.append(19)\n",
    "    else:\n",
    "        ys.append(17)\n",
    "score = np.sqrt(mean_squared_error(ys, y))\n",
    "print(\"score:\", score)\n"
   ]
  },
  {
   "cell_type": "code",
   "execution_count": null,
   "metadata": {},
   "outputs": [],
   "source": []
  },
  {
   "cell_type": "markdown",
   "metadata": {},
   "source": [
    "Full rules:\n",
    "- Call:\n",
    "    - IP:\n",
    "        - A-K board: 15   (1%)\n",
    "        - else: 17    (1%)\n",
    "    - OOP:\n",
    "        - A-Q board: 8    (13%)\n",
    "        - else: 10     (11%)\n",
    "- PFR:\n",
    "    - IP:\n",
    "        - CO/BN: 17     (14%)\n",
    "        - else: 3        (6%)\n",
    "    - OOP:\n",
    "        - CO_BN_SB: 8     (7%)        \n",
    "        - else: 17      (46%)\n",
    "           \n",
    "                                \n",
    "## Simple rules:\n",
    "\n",
    "- Called: 10\n",
    "- Late IP: 17\n",
    "- Other IP: 3\n",
    "- Late OOP: 8\n",
    "- Else: 17\n",
    "\n",
    "\n"
   ]
  },
  {
   "cell_type": "code",
   "execution_count": 115,
   "metadata": {},
   "outputs": [
    {
     "name": "stdout",
     "output_type": "stream",
     "text": [
      "0 is_bb\n",
      "1 is_capped\n",
      "2 is_paired\n",
      "3 my_pfr\n",
      "4 my_position_ip\n",
      "5 range\n",
      "6 rank1\n",
      "7 rank2\n",
      "8 rank3\n",
      "9 tones\n",
      "10 top_range\n",
      "11 wide_rfi\n",
      "12 you_3b\n",
      "13 you_rfi_and_no_raise\n"
     ]
    }
   ],
   "source": [
    "for i, name in zip(range(len(X_new.columns)), X_new.columns):\n",
    "    print(i, name)\n",
    "\n",
    "\n"
   ]
  },
  {
   "cell_type": "code",
   "execution_count": null,
   "metadata": {},
   "outputs": [],
   "source": [
    "# from sklearn.tree import _tree\n",
    "\n",
    "# def tree_to_code(tree, train_X):\n",
    "#     lookup = {}\n",
    "#     unique, value = np.unique(clf2.apply(train_X), return_counts=True)\n",
    "#     for (x, y) in zip(unique, value):\n",
    "#         lookup[x] = y\n",
    "    \n",
    "#     feature_names = train_X.columns\n",
    "    \n",
    "#     tree_ = tree.tree_\n",
    "#     feature_name = [\n",
    "#         feature_names[i] if i != _tree.TREE_UNDEFINED else \"undefined!\"\n",
    "#         for i in tree_.feature\n",
    "#     ]\n",
    "#     print(\"def tree({}):\".format(\", \".join(feature_names)))\n",
    "\n",
    "#     def recurse(node, depth):\n",
    "#         indent = \"  \" * depth\n",
    "#         if tree_.feature[node] != _tree.TREE_UNDEFINED:\n",
    "#             name = feature_name[node]\n",
    "#             threshold = tree_.threshold[node]\n",
    "#             print(\"{}if {} <= {}:\".format(indent, name, threshold))\n",
    "#             recurse(tree_.children_left[node], depth + 1)\n",
    "#             print(\"{}else:  # if {} > {}\".format(indent, name, threshold))\n",
    "#             recurse(tree_.children_right[node], depth + 1)\n",
    "#         else:\n",
    "#             print(\"{}return {}\".format(indent, tree_.value[node]))\n",
    "\n",
    "#     recurse(0, 1)\n",
    "    \n",
    "# tree_to_code(clf2, train_X)  \n",
    "    \n",
    "# def extract_from_tree_size_1(dot_data, total_samples):\n",
    "#     significant_size = total_samples*0.1\n",
    "#     rule1 = remove_everything(dot_data.split(\";\")[1].split(\"\\\\n\")[0])\n",
    "#     samples1 = int(remove_everything(dot_data.split(\";\")[1].split(\"\\\\n\")[2]))\n",
    "#     value1 = round(float(remove_everything(dot_data.split(\";\")[1].split(\"\\\\n\")[3])))\n",
    "#     print(rule1, samples1, value1)\n",
    "\n",
    "#     samples2 = int(remove_everything(dot_data.split(\";\")[2].split(\"\\\\n\")[1]))\n",
    "#     value2 = round(float(remove_everything(dot_data.split(\";\")[2].split(\"\\\\n\")[2])))\n",
    "#     if samples2 >= significant_size:\n",
    "#         print(samples2, value2)\n",
    "\n",
    "#     samples3 = int(remove_everything(dot_data.split(\";\")[4].split(\"\\\\n\")[1]))\n",
    "#     value3 = round(float(remove_everything(dot_data.split(\";\")[4].split(\"\\\\n\")[2])))\n",
    "#     if samples3 >= significant_size:\n",
    "#         print(samples3, value3)\n",
    "        \n",
    "#     if samples2 >= significant_size:\n",
    "        \n",
    "    \n"
   ]
  }
 ],
 "metadata": {
  "kernelspec": {
   "display_name": "commons",
   "language": "python",
   "name": "commons"
  },
  "language_info": {
   "codemirror_mode": {
    "name": "ipython",
    "version": 3
   },
   "file_extension": ".py",
   "mimetype": "text/x-python",
   "name": "python",
   "nbconvert_exporter": "python",
   "pygments_lexer": "ipython3",
   "version": "3.6.5"
  },
  "toc": {
   "base_numbering": 1,
   "nav_menu": {},
   "number_sections": true,
   "sideBar": true,
   "skip_h1_title": false,
   "title_cell": "Table of Contents",
   "title_sidebar": "Contents",
   "toc_cell": false,
   "toc_position": {},
   "toc_section_display": true,
   "toc_window_display": false
  }
 },
 "nbformat": 4,
 "nbformat_minor": 2
}
