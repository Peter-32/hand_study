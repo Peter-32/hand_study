{
 "cells": [
  {
   "cell_type": "code",
   "execution_count": 3,
   "metadata": {},
   "outputs": [],
   "source": [
    "%matplotlib inline\n",
    "from sklearn.model_selection import train_test_split\n",
    "from xgboost import XGBClassifier, plot_tree\n",
    "from sklearn.preprocessing import StandardScaler\n",
    "from sklearn.metrics import accuracy_score, confusion_matrix, roc_auc_score, precision_recall_curve, auc, f1_score, log_loss, precision_score\n",
    "from pandas import DataFrame, concat\n",
    "from numpy.random import seed\n",
    "from imblearn.over_sampling import SMOTE\n",
    "from sklearn.feature_selection import SelectKBest, chi2, f_classif\n",
    "from sklearn.decomposition import PCA\n",
    "from catboost import CatBoostRegressor\n",
    "from catboost import Pool\n",
    "from graphviz import Source\n",
    "from sklearn.tree import export_graphviz\n",
    "from sklearn.preprocessing import PolynomialFeatures\n",
    "import shap\n",
    "import datetime\n",
    "import matplotlib.pyplot as plt\n",
    "from numpy import max\n",
    "from pandasql import sqldf\n",
    "from sklearn.metrics import roc_curve\n",
    "import numpy as np\n",
    "import pandas as pd\n",
    "experiment_model = CatBoostRegressor()\n",
    "# df = pd.read_csv(\"../data/interim/cat3_over_estimations/data.csv\")\n",
    "df = pd.read_csv(\"../data/raw/total_combos/1.csv\")\n",
    "df[\"a_problem\"] = df[\"target\"].apply(lambda x: 1 if x >= 20 else 0)\n"
   ]
  },
  {
   "cell_type": "code",
   "execution_count": 4,
   "metadata": {},
   "outputs": [
    {
     "data": {
      "image/png": "[encoded data removed]",
      "text/plain": [
       "<Figure size 864x504 with 1 Axes>"
      ]
     },
     "metadata": {
      "needs_background": "light"
     },
     "output_type": "display_data"
    }
   ],
   "source": [
    "\n",
    "seed(42)\n",
    "temp_df = df.copy()\n",
    "# temp_df = df.sample(100000)\n",
    "temp_df = df[df[\"position\"] != \"You Cold 4Bet\"]\n",
    "temp_df = df[df[\"position\"].isin([\"LJ RFI\", \"HJ RFI\", \"CO RFI\"])]\n",
    "# X = temp_df.drop([\"target\", \"position\"], axis=1)\n",
    "X = temp_df.drop([\"a_problem\", \"target\", \"range\", \"top_range\"], axis=1)\n",
    "y = temp_df[[\"a_problem\"]]\n",
    "\n",
    "\n",
    "# X = X[important_columns]\n",
    "cat_features = [6]\n",
    "\n",
    "# Get shap dataframes\n",
    "X = DataFrame(X, columns=X.columns)\n",
    "\n",
    "# Fit the model on the training set\n",
    "experiment_model.fit(X, y, cat_features=cat_features, logging_level='Silent')\n",
    "\n",
    "feature_score = pd.DataFrame(list(zip(X.dtypes.index, experiment_model.get_feature_importance(Pool(X, label=y, cat_features=cat_features)))),\n",
    "                columns=['Feature','Score'])\n",
    "\n",
    "feature_score = feature_score.sort_values(by='Score', ascending=False, inplace=False, kind='quicksort', na_position='last')\n",
    "\n",
    "plt.rcParams[\"figure.figsize\"] = (12,7)\n",
    "ax = feature_score.plot('Feature', 'Score', kind='bar', color='c')\n",
    "ax.set_title(\"Catboost Feature Importance Ranking\", fontsize = 14)\n",
    "ax.set_xlabel('')\n",
    "\n",
    "rects = ax.patches\n",
    "\n",
    "labels = feature_score['Score'].round(2)\n",
    "\n",
    "for rect, label in zip(rects, labels):\n",
    "    height = rect.get_height()\n",
    "    ax.text(rect.get_x() + rect.get_width()/2, height + 0.35, label, ha='center', va='bottom')\n",
    "\n",
    "plt.show()\n"
   ]
  },
  {
   "cell_type": "code",
   "execution_count": 23,
   "metadata": {},
   "outputs": [
    {
     "data": {
      "text/plain": [
       "position\n",
       "BN RFI                                7\n",
       "CO RFI                               45\n",
       "CO RFI and You BB Call                9\n",
       "HJ RFI                               75\n",
       "LJ RFI                               91\n",
       "SB RFI                                0\n",
       "Villain BN RFI and You BB Call        0\n",
       "Villain HJ RFI and You BB Call       12\n",
       "Villain LJ RFI and You BB Call       17\n",
       "Villain RFI and You Call (Not BB)     0\n",
       "Villain SB RFI and You BB Call        0\n",
       "Name: a_problem, dtype: int64"
      ]
     },
     "execution_count": 23,
     "metadata": {},
     "output_type": "execute_result"
    }
   ],
   "source": [
    "df.groupby([\"position\"])[\"a_problem\"].sum()"
   ]
  },
  {
   "cell_type": "code",
   "execution_count": 13,
   "metadata": {},
   "outputs": [
    {
     "name": "stdout",
     "output_type": "stream",
     "text": [
      "0.10600307394316544\n"
     ]
    }
   ],
   "source": [
    "pred_y = experiment_model.predict(X)\n",
    "from sklearn.metrics import mean_squared_error\n",
    "score = np.sqrt(mean_squared_error(pred_y, y))\n",
    "print(score)"
   ]
  },
  {
   "cell_type": "code",
   "execution_count": 24,
   "metadata": {},
   "outputs": [
    {
     "name": "stdout",
     "output_type": "stream",
     "text": [
      "important_columns: ['cat1_combos', 'rank3', 'rank2', 'wide_rfi']\n"
     ]
    }
   ],
   "source": [
    "# Get important columns\n",
    "importance_threshold = 7\n",
    "important_columns = []\n",
    "for i, x in zip((feature_score['Score'].round(2) > importance_threshold).index, (feature_score['Score'].round(2) > importance_threshold)):\n",
    "    if x:\n",
    "        important_columns.append(X.columns[i])\n",
    "print(\"important_columns:\", important_columns)\n"
   ]
  },
  {
   "cell_type": "code",
   "execution_count": 15,
   "metadata": {
    "scrolled": true
   },
   "outputs": [
    {
     "ename": "CatBoostError",
     "evalue": "Bad value for num_feature[0,5]=\"CO RFI\": Cannot convert 'b'CO RFI'' to float",
     "output_type": "error",
     "traceback": [
      "\u001b[0;31m---------------------------------------------------------------------------\u001b[0m",
      "\u001b[0;31mTypeError\u001b[0m                                 Traceback (most recent call last)",
      "\u001b[0;32m_catboost.pyx\u001b[0m in \u001b[0;36m_catboost.get_float_feature\u001b[0;34m()\u001b[0m\n",
      "\u001b[0;32m_catboost.pyx\u001b[0m in \u001b[0;36m_catboost._FloatOrNan\u001b[0;34m()\u001b[0m\n",
      "\u001b[0;32m_catboost.pyx\u001b[0m in \u001b[0;36m_catboost._FloatOrNanFromString\u001b[0;34m()\u001b[0m\n",
      "\u001b[0;31mTypeError\u001b[0m: Cannot convert 'b'CO RFI'' to float",
      "\nDuring handling of the above exception, another exception occurred:\n",
      "\u001b[0;31mCatBoostError\u001b[0m                             Traceback (most recent call last)",
      "\u001b[0;32m<ipython-input-15-80a3839a5199>\u001b[0m in \u001b[0;36m<module>\u001b[0;34m\u001b[0m\n\u001b[1;32m     20\u001b[0m \u001b[0;34m\u001b[0m\u001b[0m\n\u001b[1;32m     21\u001b[0m \u001b[0;31m# shap values\u001b[0m\u001b[0;34m\u001b[0m\u001b[0;34m\u001b[0m\u001b[0m\n\u001b[0;32m---> 22\u001b[0;31m \u001b[0mshap_values\u001b[0m \u001b[0;34m=\u001b[0m \u001b[0mshap\u001b[0m\u001b[0;34m.\u001b[0m\u001b[0mTreeExplainer\u001b[0m\u001b[0;34m(\u001b[0m\u001b[0mexperiment_model\u001b[0m\u001b[0;34m)\u001b[0m\u001b[0;34m.\u001b[0m\u001b[0mshap_values\u001b[0m\u001b[0;34m(\u001b[0m\u001b[0mX\u001b[0m\u001b[0;34m[\u001b[0m\u001b[0;36m0\u001b[0m\u001b[0;34m:\u001b[0m\u001b[0;36m10000\u001b[0m\u001b[0;34m]\u001b[0m\u001b[0;34m)\u001b[0m\u001b[0;34m\u001b[0m\u001b[0m\n\u001b[0m\u001b[1;32m     23\u001b[0m \u001b[0;34m\u001b[0m\u001b[0m\n\u001b[1;32m     24\u001b[0m \u001b[0msorted_feature_importance\u001b[0m \u001b[0;34m=\u001b[0m \u001b[0mpd\u001b[0m\u001b[0;34m.\u001b[0m\u001b[0mDataFrame\u001b[0m\u001b[0;34m(\u001b[0m\u001b[0mshap_values\u001b[0m\u001b[0;34m,\u001b[0m \u001b[0mcolumns\u001b[0m\u001b[0;34m=\u001b[0m\u001b[0mX\u001b[0m\u001b[0;34m.\u001b[0m\u001b[0mcolumns\u001b[0m\u001b[0;34m)\u001b[0m\u001b[0;34m.\u001b[0m\u001b[0mabs\u001b[0m\u001b[0;34m(\u001b[0m\u001b[0;34m)\u001b[0m\u001b[0;34m.\u001b[0m\u001b[0msum\u001b[0m\u001b[0;34m(\u001b[0m\u001b[0;34m)\u001b[0m\u001b[0;34m.\u001b[0m\u001b[0msort_values\u001b[0m\u001b[0;34m(\u001b[0m\u001b[0mascending\u001b[0m\u001b[0;34m=\u001b[0m\u001b[0;32mFalse\u001b[0m\u001b[0;34m)\u001b[0m\u001b[0;34m\u001b[0m\u001b[0m\n",
      "\u001b[0;32m~/Desktop/Code/commons/venv/lib/python3.6/site-packages/shap/explainers/tree.py\u001b[0m in \u001b[0;36mshap_values\u001b[0;34m(self, X, y, tree_limit, approximate)\u001b[0m\n\u001b[1;32m    189\u001b[0m                 \u001b[0;32massert\u001b[0m \u001b[0mtree_limit\u001b[0m \u001b[0;34m==\u001b[0m \u001b[0;34m-\u001b[0m\u001b[0;36m1\u001b[0m\u001b[0;34m,\u001b[0m \u001b[0;34m\"tree_limit is not yet supported for CatBoost models!\"\u001b[0m\u001b[0;34m\u001b[0m\u001b[0m\n\u001b[1;32m    190\u001b[0m                 \u001b[0;32mif\u001b[0m \u001b[0mtype\u001b[0m\u001b[0;34m(\u001b[0m\u001b[0mX\u001b[0m\u001b[0;34m)\u001b[0m \u001b[0;34m!=\u001b[0m \u001b[0mcatboost\u001b[0m\u001b[0;34m.\u001b[0m\u001b[0mPool\u001b[0m\u001b[0;34m:\u001b[0m\u001b[0;34m\u001b[0m\u001b[0m\n\u001b[0;32m--> 191\u001b[0;31m                     \u001b[0mX\u001b[0m \u001b[0;34m=\u001b[0m \u001b[0mcatboost\u001b[0m\u001b[0;34m.\u001b[0m\u001b[0mPool\u001b[0m\u001b[0;34m(\u001b[0m\u001b[0mX\u001b[0m\u001b[0;34m)\u001b[0m\u001b[0;34m\u001b[0m\u001b[0m\n\u001b[0m\u001b[1;32m    192\u001b[0m                 \u001b[0mphi\u001b[0m \u001b[0;34m=\u001b[0m \u001b[0mself\u001b[0m\u001b[0;34m.\u001b[0m\u001b[0mtrees\u001b[0m\u001b[0;34m.\u001b[0m\u001b[0mget_feature_importance\u001b[0m\u001b[0;34m(\u001b[0m\u001b[0mdata\u001b[0m\u001b[0;34m=\u001b[0m\u001b[0mX\u001b[0m\u001b[0;34m,\u001b[0m \u001b[0mfstr_type\u001b[0m\u001b[0;34m=\u001b[0m\u001b[0;34m'ShapValues'\u001b[0m\u001b[0;34m)\u001b[0m\u001b[0;34m\u001b[0m\u001b[0m\n\u001b[1;32m    193\u001b[0m \u001b[0;34m\u001b[0m\u001b[0m\n",
      "\u001b[0;32m~/Desktop/Code/commons/venv/lib/python3.6/site-packages/catboost/core.py\u001b[0m in \u001b[0;36m__init__\u001b[0;34m(self, data, label, cat_features, column_description, pairs, delimiter, has_header, weight, group_id, group_weight, subgroup_id, pairs_weight, baseline, feature_names, thread_count)\u001b[0m\n\u001b[1;32m    289\u001b[0m                         )\n\u001b[1;32m    290\u001b[0m \u001b[0;34m\u001b[0m\u001b[0m\n\u001b[0;32m--> 291\u001b[0;31m                 \u001b[0mself\u001b[0m\u001b[0;34m.\u001b[0m\u001b[0m_init\u001b[0m\u001b[0;34m(\u001b[0m\u001b[0mdata\u001b[0m\u001b[0;34m,\u001b[0m \u001b[0mlabel\u001b[0m\u001b[0;34m,\u001b[0m \u001b[0mcat_features\u001b[0m\u001b[0;34m,\u001b[0m \u001b[0mpairs\u001b[0m\u001b[0;34m,\u001b[0m \u001b[0mweight\u001b[0m\u001b[0;34m,\u001b[0m \u001b[0mgroup_id\u001b[0m\u001b[0;34m,\u001b[0m \u001b[0mgroup_weight\u001b[0m\u001b[0;34m,\u001b[0m \u001b[0msubgroup_id\u001b[0m\u001b[0;34m,\u001b[0m \u001b[0mpairs_weight\u001b[0m\u001b[0;34m,\u001b[0m \u001b[0mbaseline\u001b[0m\u001b[0;34m,\u001b[0m \u001b[0mfeature_names\u001b[0m\u001b[0;34m)\u001b[0m\u001b[0;34m\u001b[0m\u001b[0m\n\u001b[0m\u001b[1;32m    292\u001b[0m         \u001b[0msuper\u001b[0m\u001b[0;34m(\u001b[0m\u001b[0mPool\u001b[0m\u001b[0;34m,\u001b[0m \u001b[0mself\u001b[0m\u001b[0;34m)\u001b[0m\u001b[0;34m.\u001b[0m\u001b[0m__init__\u001b[0m\u001b[0;34m(\u001b[0m\u001b[0;34m)\u001b[0m\u001b[0;34m\u001b[0m\u001b[0m\n\u001b[1;32m    293\u001b[0m \u001b[0;34m\u001b[0m\u001b[0m\n",
      "\u001b[0;32m~/Desktop/Code/commons/venv/lib/python3.6/site-packages/catboost/core.py\u001b[0m in \u001b[0;36m_init\u001b[0;34m(self, data, label, cat_features, pairs, weight, group_id, group_weight, subgroup_id, pairs_weight, baseline, feature_names)\u001b[0m\n\u001b[1;32m    644\u001b[0m         \u001b[0;32mif\u001b[0m \u001b[0mfeature_names\u001b[0m \u001b[0;32mis\u001b[0m \u001b[0;32mnot\u001b[0m \u001b[0;32mNone\u001b[0m\u001b[0;34m:\u001b[0m\u001b[0;34m\u001b[0m\u001b[0m\n\u001b[1;32m    645\u001b[0m             \u001b[0mself\u001b[0m\u001b[0;34m.\u001b[0m\u001b[0m_check_feature_names\u001b[0m\u001b[0;34m(\u001b[0m\u001b[0mfeature_names\u001b[0m\u001b[0;34m,\u001b[0m \u001b[0mfeatures_count\u001b[0m\u001b[0;34m)\u001b[0m\u001b[0;34m\u001b[0m\u001b[0m\n\u001b[0;32m--> 646\u001b[0;31m         \u001b[0mself\u001b[0m\u001b[0;34m.\u001b[0m\u001b[0m_init_pool\u001b[0m\u001b[0;34m(\u001b[0m\u001b[0mdata\u001b[0m\u001b[0;34m,\u001b[0m \u001b[0mlabel\u001b[0m\u001b[0;34m,\u001b[0m \u001b[0mcat_features\u001b[0m\u001b[0;34m,\u001b[0m \u001b[0mpairs\u001b[0m\u001b[0;34m,\u001b[0m \u001b[0mweight\u001b[0m\u001b[0;34m,\u001b[0m \u001b[0mgroup_id\u001b[0m\u001b[0;34m,\u001b[0m \u001b[0mgroup_weight\u001b[0m\u001b[0;34m,\u001b[0m \u001b[0msubgroup_id\u001b[0m\u001b[0;34m,\u001b[0m \u001b[0mpairs_weight\u001b[0m\u001b[0;34m,\u001b[0m \u001b[0mbaseline\u001b[0m\u001b[0;34m,\u001b[0m \u001b[0mfeature_names\u001b[0m\u001b[0;34m)\u001b[0m\u001b[0;34m\u001b[0m\u001b[0m\n\u001b[0m\u001b[1;32m    647\u001b[0m \u001b[0;34m\u001b[0m\u001b[0m\n\u001b[1;32m    648\u001b[0m \u001b[0;34m\u001b[0m\u001b[0m\n",
      "\u001b[0;32m_catboost.pyx\u001b[0m in \u001b[0;36m_catboost._PoolBase._init_pool\u001b[0;34m()\u001b[0m\n",
      "\u001b[0;32m_catboost.pyx\u001b[0m in \u001b[0;36m_catboost._PoolBase._init_pool\u001b[0;34m()\u001b[0m\n",
      "\u001b[0;32m_catboost.pyx\u001b[0m in \u001b[0;36m_catboost._PoolBase._init_features_order_layout_pool\u001b[0;34m()\u001b[0m\n",
      "\u001b[0;32m_catboost.pyx\u001b[0m in \u001b[0;36m_catboost._set_features_order_data_pd_data_frame\u001b[0;34m()\u001b[0m\n",
      "\u001b[0;32m_catboost.pyx\u001b[0m in \u001b[0;36m_catboost.create_num_factor_data\u001b[0;34m()\u001b[0m\n",
      "\u001b[0;32m_catboost.pyx\u001b[0m in \u001b[0;36m_catboost.get_float_feature\u001b[0;34m()\u001b[0m\n",
      "\u001b[0;31mCatBoostError\u001b[0m: Bad value for num_feature[0,5]=\"CO RFI\": Cannot convert 'b'CO RFI'' to float"
     ]
    }
   ],
   "source": [
    "import numpy as np\n",
    "from pandas import read_csv\n",
    "from numpy.random import seed\n",
    "from sklearn.pipeline import Pipeline, FeatureUnion\n",
    "from sklearn.preprocessing import StandardScaler, MinMaxScaler, \\\n",
    "                                  OneHotEncoder\n",
    "from sklearn.impute import SimpleImputer\n",
    "from sklearn.base import BaseEstimator, TransformerMixin\n",
    "import warnings\n",
    "import matplotlib.pyplot as plt\n",
    "from sklearn.preprocessing import KBinsDiscretizer\n",
    "warnings.filterwarnings(\"ignore\")\n",
    "\n",
    "import shap\n",
    "import pandas as pd\n",
    "from numpy import cumsum\n",
    "from xgboost import XGBClassifier\n",
    "\n",
    "seed(40)\n",
    "\n",
    "# shap values\n",
    "shap_values = shap.TreeExplainer(experiment_model).shap_values(X[0:10000])\n",
    "\n",
    "sorted_feature_importance = pd.DataFrame(shap_values, columns=X.columns).abs().sum().sort_values(ascending=False)\n",
    "cumulative_sum = cumsum([y for (x,y) in sorted_feature_importance.reset_index().values])\n",
    "gt_999_importance = cumulative_sum / cumulative_sum[-1] > .999\n",
    "nth_feature = min([y for (x,y) in zip(gt_999_importance, zip(range(len(gt_999_importance)))) if x])[0]\n",
    "important_columns = sorted_feature_importance.iloc[0:nth_feature+1].index.values.tolist()\n",
    "print(important_columns)\n",
    "\n",
    "plt.clf()\n",
    "shap.summary_plot(shap_values, X[0:10000])\n",
    "\n"
   ]
  },
  {
   "cell_type": "markdown",
   "metadata": {},
   "source": [
    "- Primary\n",
    "    - **When IP:** Lower\n",
    "- Secondary\n",
    "    - **If Capped Range**: Lower\n",
    "    - **You have a wide range**: Lower    \n",
    "    - **If RFI and No Raisers**: Higher\n",
    "    - **High Rank1**: Higher\n"
   ]
  },
  {
   "cell_type": "markdown",
   "metadata": {},
   "source": [
    "## Decision Tree with these 5 features"
   ]
  },
  {
   "cell_type": "code",
   "execution_count": null,
   "metadata": {},
   "outputs": [],
   "source": [
    "def remove_everything(string):\n",
    "    return string.replace(\"\\n0 [\",\"\").replace(\"label=\\\"\",\"\").replace('\"] ', '').replace('value = ', ''). \\\n",
    "                  replace('10.5', 'T'). \\\n",
    "                  replace('11.5', 'J'). \\\n",
    "                  replace('12.5', 'Q'). \\\n",
    "                  replace('13.5', 'K'). \\\n",
    "                  replace('samples = ', '')\n"
   ]
  },
  {
   "cell_type": "code",
   "execution_count": null,
   "metadata": {},
   "outputs": [],
   "source": [
    "print(dot_data)"
   ]
  },
  {
   "cell_type": "code",
   "execution_count": null,
   "metadata": {},
   "outputs": [],
   "source": [
    "dot_data.split(\";\")[2].split(\"\\\\n\")[3]"
   ]
  },
  {
   "cell_type": "code",
   "execution_count": null,
   "metadata": {},
   "outputs": [],
   "source": [
    "remove_everything(dot_data.split(\";\")[2][5:].split(\"\\\\n\")[1])"
   ]
  },
  {
   "cell_type": "code",
   "execution_count": null,
   "metadata": {},
   "outputs": [],
   "source": [
    "clf2.tree_.samples[0]"
   ]
  },
  {
   "cell_type": "code",
   "execution_count": 14,
   "metadata": {},
   "outputs": [],
   "source": [
    "temp_df = df.sample(2000000)"
   ]
  },
  {
   "cell_type": "code",
   "execution_count": null,
   "metadata": {},
   "outputs": [],
   "source": []
  },
  {
   "cell_type": "code",
   "execution_count": null,
   "metadata": {},
   "outputs": [],
   "source": []
  },
  {
   "cell_type": "code",
   "execution_count": 27,
   "metadata": {},
   "outputs": [
    {
     "name": "stdout",
     "output_type": "stream",
     "text": [
      "score: 12.517438085469951\n",
      "score: 8.39187302331144\n",
      "score: 7.586496057749562\n",
      "score: 7.607668441494887\n",
      "score: 7.568681487456073\n",
      "score: 7.568681487456073\n",
      "score: 7.568681487456073\n"
     ]
    },
    {
     "data": {
      "image/svg+xml": [
       "<?xml version=\"1.0\" encoding=\"UTF-8\" standalone=\"no\"?>\n",
       "<!DOCTYPE svg PUBLIC \"-//W3C//DTD SVG 1.1//EN\"\n",
       " \"http://www.w3.org/Graphics/SVG/1.1/DTD/svg11.dtd\">\n",
       "<!-- Generated by graphviz version 2.40.1 (20161225.0304)\n",
       " -->\n",
       "<!-- Title: Tree Pages: 1 -->\n",
       "<svg width=\"464pt\" height=\"558pt\"\n",
       " viewBox=\"0.00 0.00 463.86 558.00\" xmlns=\"http://www.w3.org/2000/svg\" xmlns:xlink=\"http://www.w3.org/1999/xlink\">\n",
       "<g id=\"graph0\" class=\"graph\" transform=\"scale(1 1) rotate(0) translate(4 554)\">\n",
       "<title>Tree</title>\n",
       "<polygon fill=\"#ffffff\" stroke=\"transparent\" points=\"-4,4 -4,-554 459.856,-554 459.856,4 -4,4\"/>\n",
       "<!-- 0 -->\n",
       "<g id=\"node1\" class=\"node\">\n",
       "<title>0</title>\n",
       "<polygon fill=\"none\" stroke=\"#000000\" points=\"415.6598,-550 278.3393,-550 278.3393,-486 415.6598,-486 415.6598,-550\"/>\n",
       "<text text-anchor=\"middle\" x=\"346.9995\" y=\"-534.8\" font-family=\"Times,serif\" font-size=\"14.00\" fill=\"#000000\">cat1_combos &lt;= 60.5</text>\n",
       "<text text-anchor=\"middle\" x=\"346.9995\" y=\"-520.8\" font-family=\"Times,serif\" font-size=\"14.00\" fill=\"#000000\">mse = 482.901</text>\n",
       "<text text-anchor=\"middle\" x=\"346.9995\" y=\"-506.8\" font-family=\"Times,serif\" font-size=\"14.00\" fill=\"#000000\">samples = 216</text>\n",
       "<text text-anchor=\"middle\" x=\"346.9995\" y=\"-492.8\" font-family=\"Times,serif\" font-size=\"14.00\" fill=\"#000000\">value = 15.171</text>\n",
       "</g>\n",
       "<!-- 1 -->\n",
       "<g id=\"node2\" class=\"node\">\n",
       "<title>1</title>\n",
       "<polygon fill=\"none\" stroke=\"#000000\" points=\"338.435,-450 239.564,-450 239.564,-386 338.435,-386 338.435,-450\"/>\n",
       "<text text-anchor=\"middle\" x=\"288.9995\" y=\"-434.8\" font-family=\"Times,serif\" font-size=\"14.00\" fill=\"#000000\">rank2 &lt;= 10.5</text>\n",
       "<text text-anchor=\"middle\" x=\"288.9995\" y=\"-420.8\" font-family=\"Times,serif\" font-size=\"14.00\" fill=\"#000000\">mse = 118.173</text>\n",
       "<text text-anchor=\"middle\" x=\"288.9995\" y=\"-406.8\" font-family=\"Times,serif\" font-size=\"14.00\" fill=\"#000000\">samples = 188</text>\n",
       "<text text-anchor=\"middle\" x=\"288.9995\" y=\"-392.8\" font-family=\"Times,serif\" font-size=\"14.00\" fill=\"#000000\">value = 7.83</text>\n",
       "</g>\n",
       "<!-- 0&#45;&gt;1 -->\n",
       "<g id=\"edge1\" class=\"edge\">\n",
       "<title>0&#45;&gt;1</title>\n",
       "<path fill=\"none\" stroke=\"#000000\" d=\"M328.3287,-485.8089C323.3613,-477.2445 317.9289,-467.8782 312.7302,-458.915\"/>\n",
       "<polygon fill=\"#000000\" stroke=\"#000000\" points=\"315.6802,-457.0251 307.6354,-450.1308 309.625,-460.5371 315.6802,-457.0251\"/>\n",
       "<text text-anchor=\"middle\" x=\"301.2128\" y=\"-470.0917\" font-family=\"Times,serif\" font-size=\"14.00\" fill=\"#000000\">True</text>\n",
       "</g>\n",
       "<!-- 10 -->\n",
       "<g id=\"node11\" class=\"node\">\n",
       "<title>10</title>\n",
       "<polygon fill=\"none\" stroke=\"#000000\" points=\"455.7128,-443 356.2862,-443 356.2862,-393 455.7128,-393 455.7128,-443\"/>\n",
       "<text text-anchor=\"middle\" x=\"405.9995\" y=\"-427.8\" font-family=\"Times,serif\" font-size=\"14.00\" fill=\"#000000\">mse = 140.106</text>\n",
       "<text text-anchor=\"middle\" x=\"405.9995\" y=\"-413.8\" font-family=\"Times,serif\" font-size=\"14.00\" fill=\"#000000\">samples = 28</text>\n",
       "<text text-anchor=\"middle\" x=\"405.9995\" y=\"-399.8\" font-family=\"Times,serif\" font-size=\"14.00\" fill=\"#000000\">value = 64.464</text>\n",
       "</g>\n",
       "<!-- 0&#45;&gt;10 -->\n",
       "<g id=\"edge10\" class=\"edge\">\n",
       "<title>0&#45;&gt;10</title>\n",
       "<path fill=\"none\" stroke=\"#000000\" d=\"M365.9922,-485.8089C372.3611,-475.0142 379.4816,-462.9456 385.9302,-452.0158\"/>\n",
       "<polygon fill=\"#000000\" stroke=\"#000000\" points=\"389.0907,-453.5468 391.1577,-443.1555 383.0618,-449.9897 389.0907,-453.5468\"/>\n",
       "<text text-anchor=\"middle\" x=\"397.4001\" y=\"-463.1637\" font-family=\"Times,serif\" font-size=\"14.00\" fill=\"#000000\">False</text>\n",
       "</g>\n",
       "<!-- 2 -->\n",
       "<g id=\"node3\" class=\"node\">\n",
       "<title>2</title>\n",
       "<polygon fill=\"none\" stroke=\"#000000\" points=\"289.6598,-350 152.3393,-350 152.3393,-286 289.6598,-286 289.6598,-350\"/>\n",
       "<text text-anchor=\"middle\" x=\"220.9995\" y=\"-334.8\" font-family=\"Times,serif\" font-size=\"14.00\" fill=\"#000000\">cat1_combos &lt;= 51.5</text>\n",
       "<text text-anchor=\"middle\" x=\"220.9995\" y=\"-320.8\" font-family=\"Times,serif\" font-size=\"14.00\" fill=\"#000000\">mse = 41.053</text>\n",
       "<text text-anchor=\"middle\" x=\"220.9995\" y=\"-306.8\" font-family=\"Times,serif\" font-size=\"14.00\" fill=\"#000000\">samples = 150</text>\n",
       "<text text-anchor=\"middle\" x=\"220.9995\" y=\"-292.8\" font-family=\"Times,serif\" font-size=\"14.00\" fill=\"#000000\">value = 4.0</text>\n",
       "</g>\n",
       "<!-- 1&#45;&gt;2 -->\n",
       "<g id=\"edge2\" class=\"edge\">\n",
       "<title>1&#45;&gt;2</title>\n",
       "<path fill=\"none\" stroke=\"#000000\" d=\"M267.1096,-385.8089C261.2251,-377.1553 254.784,-367.683 248.6313,-358.635\"/>\n",
       "<polygon fill=\"#000000\" stroke=\"#000000\" points=\"251.3658,-356.4319 242.8484,-350.1308 245.5773,-360.3681 251.3658,-356.4319\"/>\n",
       "</g>\n",
       "<!-- 9 -->\n",
       "<g id=\"node10\" class=\"node\">\n",
       "<title>9</title>\n",
       "<polygon fill=\"none\" stroke=\"#000000\" points=\"406.7128,-343 307.2862,-343 307.2862,-293 406.7128,-293 406.7128,-343\"/>\n",
       "<text text-anchor=\"middle\" x=\"356.9995\" y=\"-327.8\" font-family=\"Times,serif\" font-size=\"14.00\" fill=\"#000000\">mse = 136.155</text>\n",
       "<text text-anchor=\"middle\" x=\"356.9995\" y=\"-313.8\" font-family=\"Times,serif\" font-size=\"14.00\" fill=\"#000000\">samples = 38</text>\n",
       "<text text-anchor=\"middle\" x=\"356.9995\" y=\"-299.8\" font-family=\"Times,serif\" font-size=\"14.00\" fill=\"#000000\">value = 22.947</text>\n",
       "</g>\n",
       "<!-- 1&#45;&gt;9 -->\n",
       "<g id=\"edge9\" class=\"edge\">\n",
       "<title>1&#45;&gt;9</title>\n",
       "<path fill=\"none\" stroke=\"#000000\" d=\"M310.8894,-385.8089C318.3033,-374.9063 326.6007,-362.7041 334.0915,-351.6882\"/>\n",
       "<polygon fill=\"#000000\" stroke=\"#000000\" points=\"337.1648,-353.3929 339.8937,-343.1555 331.3764,-349.4567 337.1648,-353.3929\"/>\n",
       "</g>\n",
       "<!-- 3 -->\n",
       "<g id=\"node4\" class=\"node\">\n",
       "<title>3</title>\n",
       "<polygon fill=\"none\" stroke=\"#000000\" points=\"211.4985,-250 114.5005,-250 114.5005,-186 211.4985,-186 211.4985,-250\"/>\n",
       "<text text-anchor=\"middle\" x=\"162.9995\" y=\"-234.8\" font-family=\"Times,serif\" font-size=\"14.00\" fill=\"#000000\">rank3 &lt;= 8.5</text>\n",
       "<text text-anchor=\"middle\" x=\"162.9995\" y=\"-220.8\" font-family=\"Times,serif\" font-size=\"14.00\" fill=\"#000000\">mse = 8.051</text>\n",
       "<text text-anchor=\"middle\" x=\"162.9995\" y=\"-206.8\" font-family=\"Times,serif\" font-size=\"14.00\" fill=\"#000000\">samples = 107</text>\n",
       "<text text-anchor=\"middle\" x=\"162.9995\" y=\"-192.8\" font-family=\"Times,serif\" font-size=\"14.00\" fill=\"#000000\">value = 1.206</text>\n",
       "</g>\n",
       "<!-- 2&#45;&gt;3 -->\n",
       "<g id=\"edge3\" class=\"edge\">\n",
       "<title>2&#45;&gt;3</title>\n",
       "<path fill=\"none\" stroke=\"#000000\" d=\"M202.3287,-285.8089C197.3613,-277.2445 191.9289,-267.8782 186.7302,-258.915\"/>\n",
       "<polygon fill=\"#000000\" stroke=\"#000000\" points=\"189.6802,-257.0251 181.6354,-250.1308 183.625,-260.5371 189.6802,-257.0251\"/>\n",
       "</g>\n",
       "<!-- 8 -->\n",
       "<g id=\"node9\" class=\"node\">\n",
       "<title>8</title>\n",
       "<polygon fill=\"none\" stroke=\"#000000\" points=\"328.7128,-243 229.2862,-243 229.2862,-193 328.7128,-193 328.7128,-243\"/>\n",
       "<text text-anchor=\"middle\" x=\"278.9995\" y=\"-227.8\" font-family=\"Times,serif\" font-size=\"14.00\" fill=\"#000000\">mse = 55.393</text>\n",
       "<text text-anchor=\"middle\" x=\"278.9995\" y=\"-213.8\" font-family=\"Times,serif\" font-size=\"14.00\" fill=\"#000000\">samples = 43</text>\n",
       "<text text-anchor=\"middle\" x=\"278.9995\" y=\"-199.8\" font-family=\"Times,serif\" font-size=\"14.00\" fill=\"#000000\">value = 10.953</text>\n",
       "</g>\n",
       "<!-- 2&#45;&gt;8 -->\n",
       "<g id=\"edge8\" class=\"edge\">\n",
       "<title>2&#45;&gt;8</title>\n",
       "<path fill=\"none\" stroke=\"#000000\" d=\"M239.6703,-285.8089C245.9313,-275.0142 252.9311,-262.9456 259.2704,-252.0158\"/>\n",
       "<polygon fill=\"#000000\" stroke=\"#000000\" points=\"262.4197,-253.5619 264.4093,-243.1555 256.3645,-250.0498 262.4197,-253.5619\"/>\n",
       "</g>\n",
       "<!-- 4 -->\n",
       "<g id=\"node5\" class=\"node\">\n",
       "<title>4</title>\n",
       "<polygon fill=\"none\" stroke=\"#000000\" points=\"167.6598,-150 30.3393,-150 30.3393,-86 167.6598,-86 167.6598,-150\"/>\n",
       "<text text-anchor=\"middle\" x=\"98.9995\" y=\"-134.8\" font-family=\"Times,serif\" font-size=\"14.00\" fill=\"#000000\">cat1_combos &lt;= 49.5</text>\n",
       "<text text-anchor=\"middle\" x=\"98.9995\" y=\"-120.8\" font-family=\"Times,serif\" font-size=\"14.00\" fill=\"#000000\">mse = 4.511</text>\n",
       "<text text-anchor=\"middle\" x=\"98.9995\" y=\"-106.8\" font-family=\"Times,serif\" font-size=\"14.00\" fill=\"#000000\">samples = 105</text>\n",
       "<text text-anchor=\"middle\" x=\"98.9995\" y=\"-92.8\" font-family=\"Times,serif\" font-size=\"14.00\" fill=\"#000000\">value = 0.943</text>\n",
       "</g>\n",
       "<!-- 3&#45;&gt;4 -->\n",
       "<g id=\"edge4\" class=\"edge\">\n",
       "<title>3&#45;&gt;4</title>\n",
       "<path fill=\"none\" stroke=\"#000000\" d=\"M142.3972,-185.8089C136.8589,-177.1553 130.7966,-167.683 125.0059,-158.635\"/>\n",
       "<polygon fill=\"#000000\" stroke=\"#000000\" points=\"127.9017,-156.6668 119.5632,-150.1308 122.0058,-160.4402 127.9017,-156.6668\"/>\n",
       "</g>\n",
       "<!-- 7 -->\n",
       "<g id=\"node8\" class=\"node\">\n",
       "<title>7</title>\n",
       "<polygon fill=\"none\" stroke=\"#000000\" points=\"270.7129,-143 185.2861,-143 185.2861,-93 270.7129,-93 270.7129,-143\"/>\n",
       "<text text-anchor=\"middle\" x=\"227.9995\" y=\"-127.8\" font-family=\"Times,serif\" font-size=\"14.00\" fill=\"#000000\">mse = 0.0</text>\n",
       "<text text-anchor=\"middle\" x=\"227.9995\" y=\"-113.8\" font-family=\"Times,serif\" font-size=\"14.00\" fill=\"#000000\">samples = 2</text>\n",
       "<text text-anchor=\"middle\" x=\"227.9995\" y=\"-99.8\" font-family=\"Times,serif\" font-size=\"14.00\" fill=\"#000000\">value = 15.0</text>\n",
       "</g>\n",
       "<!-- 3&#45;&gt;7 -->\n",
       "<g id=\"edge7\" class=\"edge\">\n",
       "<title>3&#45;&gt;7</title>\n",
       "<path fill=\"none\" stroke=\"#000000\" d=\"M183.9237,-185.8089C191.0104,-174.9063 198.9419,-162.7041 206.1022,-151.6882\"/>\n",
       "<polygon fill=\"#000000\" stroke=\"#000000\" points=\"209.133,-153.4475 211.6484,-143.1555 203.2639,-149.6325 209.133,-153.4475\"/>\n",
       "</g>\n",
       "<!-- 5 -->\n",
       "<g id=\"node6\" class=\"node\">\n",
       "<title>5</title>\n",
       "<polygon fill=\"none\" stroke=\"#000000\" points=\"89.9985,-50 .0005,-50 .0005,0 89.9985,0 89.9985,-50\"/>\n",
       "<text text-anchor=\"middle\" x=\"44.9995\" y=\"-34.8\" font-family=\"Times,serif\" font-size=\"14.00\" fill=\"#000000\">mse = 0.0</text>\n",
       "<text text-anchor=\"middle\" x=\"44.9995\" y=\"-20.8\" font-family=\"Times,serif\" font-size=\"14.00\" fill=\"#000000\">samples = 71</text>\n",
       "<text text-anchor=\"middle\" x=\"44.9995\" y=\"-6.8\" font-family=\"Times,serif\" font-size=\"14.00\" fill=\"#000000\">value = 0.0</text>\n",
       "</g>\n",
       "<!-- 4&#45;&gt;5 -->\n",
       "<g id=\"edge5\" class=\"edge\">\n",
       "<title>4&#45;&gt;5</title>\n",
       "<path fill=\"none\" stroke=\"#000000\" d=\"M80.4158,-85.9947C75.3438,-77.2595 69.8315,-67.7662 64.6996,-58.928\"/>\n",
       "<polygon fill=\"#000000\" stroke=\"#000000\" points=\"67.572,-56.9044 59.5238,-50.014 61.5184,-60.4194 67.572,-56.9044\"/>\n",
       "</g>\n",
       "<!-- 6 -->\n",
       "<g id=\"node7\" class=\"node\">\n",
       "<title>6</title>\n",
       "<polygon fill=\"none\" stroke=\"#000000\" points=\"200.2128,-50 107.7862,-50 107.7862,0 200.2128,0 200.2128,-50\"/>\n",
       "<text text-anchor=\"middle\" x=\"153.9995\" y=\"-34.8\" font-family=\"Times,serif\" font-size=\"14.00\" fill=\"#000000\">mse = 8.198</text>\n",
       "<text text-anchor=\"middle\" x=\"153.9995\" y=\"-20.8\" font-family=\"Times,serif\" font-size=\"14.00\" fill=\"#000000\">samples = 34</text>\n",
       "<text text-anchor=\"middle\" x=\"153.9995\" y=\"-6.8\" font-family=\"Times,serif\" font-size=\"14.00\" fill=\"#000000\">value = 2.912</text>\n",
       "</g>\n",
       "<!-- 4&#45;&gt;6 -->\n",
       "<g id=\"edge6\" class=\"edge\">\n",
       "<title>4&#45;&gt;6</title>\n",
       "<path fill=\"none\" stroke=\"#000000\" d=\"M117.9274,-85.9947C123.1477,-77.1676 128.8259,-67.5662 134.0995,-58.6491\"/>\n",
       "<polygon fill=\"#000000\" stroke=\"#000000\" points=\"137.1284,-60.4031 139.2063,-50.014 131.1032,-56.8398 137.1284,-60.4031\"/>\n",
       "</g>\n",
       "</g>\n",
       "</svg>\n"
      ],
      "text/plain": [
       "<graphviz.files.Source at 0x1190a4160>"
      ]
     },
     "execution_count": 27,
     "metadata": {},
     "output_type": "execute_result"
    }
   ],
   "source": [
    "# Get important columns\n",
    "# importance_threshold = 9\n",
    "# important_columns = []\n",
    "# for i, x in zip((feature_score['Score'].round(2) > importance_threshold).index, (feature_score['Score'].round(2) > importance_threshold)):\n",
    "#     if x:\n",
    "#         important_columns.append(X.columns[i])\n",
    "# print(\"important_columns:\", important_columns)\n",
    "\n",
    "temp_df1 = sqldf(\"\"\"\n",
    "SELECT *\n",
    "FROM temp_df\n",
    "WHERE position IN (\"CO RFI\", \"LJ RFI\", \"HJ RFI\")\n",
    "and CASE \n",
    "      WHEN position = \"CO RFI\" THEN cat1_combos >= 84*0.8\n",
    "      WHEN position = \"HJ RFI\" THEN cat1_combos >= 68*0.8\n",
    "      WHEN position = \"LJ RFI\" THEN cat1_combos >= 58*0.8\n",
    "    END\n",
    "\n",
    "\"\"\", globals())\n",
    "\n",
    "temp_df_new = temp_df1[temp_df1[\"position\"].isin([\"LJ RFI\"])].drop([\"a_problem\", \"position\", \"range\", \"top_range\"], axis=1) # [[\"rank1\", \"my_position_ip\", \"target\"]]\n",
    "\n",
    "train, test = train_test_split(temp_df_new, test_size=0.40)\n",
    "\n",
    "\n",
    "train_X = train.drop([\"target\"], axis=1)\n",
    "train_y = train[[\"target\"]]\n",
    "test_X = test.drop([\"target\"], axis=1)\n",
    "test_y = test[[\"target\"]]\n",
    "min_samples_split = int(train_X.shape[0]*0.3)\n",
    "\n",
    "\n",
    "from graphviz import Source\n",
    "from sklearn.tree import export_graphviz\n",
    "from sklearn import tree, linear_model\n",
    "%matplotlib inline\n",
    "for i in range(1,7):\n",
    "    clf2 = tree.DecisionTreeRegressor(max_depth=i, min_samples_split=min_samples_split)\n",
    "    clf2.fit(train_X, train_y)\n",
    "    pred_y = clf2.predict(test_X)\n",
    "    from sklearn.metrics import mean_squared_error\n",
    "    score = np.sqrt(mean_squared_error(pred_y, test_y))\n",
    "    print(\"score:\", score)\n",
    "    # clf2.coef_\n",
    "\n",
    "CHOICE = 5\n",
    "\n",
    "clf2 = tree.DecisionTreeRegressor(max_depth=CHOICE, min_samples_split=min_samples_split)\n",
    "clf2.fit(train_X, train_y)\n",
    "pred_y = clf2.predict(train_X)\n",
    "from sklearn.metrics import mean_squared_error\n",
    "print(\"score:\", score)\n",
    "dot_data = export_graphviz(clf2, out_file=None, feature_names=train_X.columns)\n",
    "graph = Source(dot_data)\n",
    "graph.render(\"graph\")        \n",
    "graph\n",
    "# clf2.coef_    \n"
   ]
  },
  {
   "cell_type": "code",
   "execution_count": 28,
   "metadata": {},
   "outputs": [
    {
     "data": {
      "text/plain": [
       "cat1_groups\n",
       "(0, 55]        4.796935\n",
       "(55, 65]      33.232877\n",
       "(65, 1000]    71.192308\n",
       "Name: target, dtype: float64"
      ]
     },
     "execution_count": 28,
     "metadata": {},
     "output_type": "execute_result"
    }
   ],
   "source": [
    "temp_df_new[\"cat1_groups\"] = pd.cut(temp_df_new['cat1_combos'], bins=[0,55,65,1000])\n",
    "temp_df_new.head()\n",
    "temp_df_new.groupby([\"cat1_groups\"])['target'].mean()"
   ]
  },
  {
   "cell_type": "code",
   "execution_count": 16,
   "metadata": {},
   "outputs": [
    {
     "data": {
      "text/plain": [
       "CO RFI                               143349\n",
       "Villain LJ RFI and You BB 3Bet       142984\n",
       "SB RFI                               142751\n",
       "LJ RFI                               142741\n",
       "HJ RFI                               142657\n",
       "BN RFI                               142610\n",
       "Villain HJ RFI and You BB 3Bet        95447\n",
       "Villain BN RFI and You SB 3Bet        95390\n",
       "Villain RFI and You 3Bet (Not BB)     95317\n",
       "Villain LJ RFI and You BB Call        95316\n",
       "Villain BN RFI and You BB Call        95285\n",
       "Villain HJ RFI and You BB Call        95262\n",
       "Villain CO RFI and You BB 3Bet        95231\n",
       "Villain SB RFI and You BB Call        95220\n",
       "CO RFI and You BB Call                95190\n",
       "Villain BN RFI and You BB 3Bet        95062\n",
       "Villain SB RFI and You BB 3Bet        95046\n",
       "Villain RFI and You Call (Not BB)     23971\n",
       "You RFI, get 3Bet and you Call        23749\n",
       "You RFI, get 3Bet and you 4Bet        23748\n",
       "You Cold 4Bet                         23674\n",
       "Name: position, dtype: int64"
      ]
     },
     "execution_count": 16,
     "metadata": {},
     "output_type": "execute_result"
    }
   ],
   "source": [
    "temp_df['position'].value_counts()"
   ]
  },
  {
   "cell_type": "code",
   "execution_count": null,
   "metadata": {},
   "outputs": [],
   "source": [
    "temp_df_new = temp_df[temp_df[\"position\"] == \"LJ RFI\"].drop([\"position\"], axis=1) # [[\"rank1\", \"my_position_ip\", \"target\"]]\n",
    "X_new = temp_df_new.drop([\"target\"], axis=1)\n",
    "y = temp_df_new[[\"target\"]]\n",
    "\n",
    "ys = []\n",
    "for index, row in test_X.iterrows():\n",
    "    ys.append(18)\n",
    "#     if row['rank1'] <= 10 or row['is_paired']:\n",
    "#         ys.append(17)\n",
    "#     elif row['rank2'] <= 8:\n",
    "#         ys.append(18)\n",
    "#     else:\n",
    "#         ys.append(19)\n",
    "        \n",
    "score = np.sqrt(mean_squared_error(ys, test_y))\n",
    "print(\"score:\", score)\n"
   ]
  },
  {
   "cell_type": "code",
   "execution_count": null,
   "metadata": {},
   "outputs": [],
   "source": [
    "# HJ RFI\n",
    "ys = []\n",
    "for index, row in X_new.iterrows():\n",
    "    if row['rank1'] <= 10 and rank2 <= :\n",
    "        if row['rank2'] <= 8:\n",
    "            ys.append(18)\n",
    "        else:\n",
    "            ys.append(19)\n",
    "    else:\n",
    "        ys.append(17)\n",
    "score = np.sqrt(mean_squared_error(ys, y))\n",
    "print(\"score:\", score)\n"
   ]
  },
  {
   "cell_type": "code",
   "execution_count": null,
   "metadata": {},
   "outputs": [],
   "source": []
  },
  {
   "cell_type": "markdown",
   "metadata": {},
   "source": [
    "Full rules:\n",
    "- Call:\n",
    "    - IP:\n",
    "        - A-K board: 15   (1%)\n",
    "        - else: 17    (1%)\n",
    "    - OOP:\n",
    "        - A-Q board: 8    (13%)\n",
    "        - else: 10     (11%)\n",
    "- PFR:\n",
    "    - IP:\n",
    "        - CO/BN: 17     (14%)\n",
    "        - else: 3        (6%)\n",
    "    - OOP:\n",
    "        - CO_BN_SB: 8     (7%)        \n",
    "        - else: 17      (46%)\n",
    "           \n",
    "                                \n",
    "## Simple rules:\n",
    "\n",
    "- Called: 10\n",
    "- Late IP: 17\n",
    "- Other IP: 3\n",
    "- Late OOP: 8\n",
    "- Else: 17\n",
    "\n",
    "\n"
   ]
  },
  {
   "cell_type": "code",
   "execution_count": 115,
   "metadata": {},
   "outputs": [
    {
     "name": "stdout",
     "output_type": "stream",
     "text": [
      "0 is_bb\n",
      "1 is_capped\n",
      "2 is_paired\n",
      "3 my_pfr\n",
      "4 my_position_ip\n",
      "5 range\n",
      "6 rank1\n",
      "7 rank2\n",
      "8 rank3\n",
      "9 tones\n",
      "10 top_range\n",
      "11 wide_rfi\n",
      "12 you_3b\n",
      "13 you_rfi_and_no_raise\n"
     ]
    }
   ],
   "source": [
    "for i, name in zip(range(len(X_new.columns)), X_new.columns):\n",
    "    print(i, name)\n",
    "\n",
    "\n"
   ]
  },
  {
   "cell_type": "code",
   "execution_count": null,
   "metadata": {},
   "outputs": [],
   "source": [
    "# from sklearn.tree import _tree\n",
    "\n",
    "# def tree_to_code(tree, train_X):\n",
    "#     lookup = {}\n",
    "#     unique, value = np.unique(clf2.apply(train_X), return_counts=True)\n",
    "#     for (x, y) in zip(unique, value):\n",
    "#         lookup[x] = y\n",
    "    \n",
    "#     feature_names = train_X.columns\n",
    "    \n",
    "#     tree_ = tree.tree_\n",
    "#     feature_name = [\n",
    "#         feature_names[i] if i != _tree.TREE_UNDEFINED else \"undefined!\"\n",
    "#         for i in tree_.feature\n",
    "#     ]\n",
    "#     print(\"def tree({}):\".format(\", \".join(feature_names)))\n",
    "\n",
    "#     def recurse(node, depth):\n",
    "#         indent = \"  \" * depth\n",
    "#         if tree_.feature[node] != _tree.TREE_UNDEFINED:\n",
    "#             name = feature_name[node]\n",
    "#             threshold = tree_.threshold[node]\n",
    "#             print(\"{}if {} <= {}:\".format(indent, name, threshold))\n",
    "#             recurse(tree_.children_left[node], depth + 1)\n",
    "#             print(\"{}else:  # if {} > {}\".format(indent, name, threshold))\n",
    "#             recurse(tree_.children_right[node], depth + 1)\n",
    "#         else:\n",
    "#             print(\"{}return {}\".format(indent, tree_.value[node]))\n",
    "\n",
    "#     recurse(0, 1)\n",
    "    \n",
    "# tree_to_code(clf2, train_X)  \n",
    "    \n",
    "# def extract_from_tree_size_1(dot_data, total_samples):\n",
    "#     significant_size = total_samples*0.1\n",
    "#     rule1 = remove_everything(dot_data.split(\";\")[1].split(\"\\\\n\")[0])\n",
    "#     samples1 = int(remove_everything(dot_data.split(\";\")[1].split(\"\\\\n\")[2]))\n",
    "#     value1 = round(float(remove_everything(dot_data.split(\";\")[1].split(\"\\\\n\")[3])))\n",
    "#     print(rule1, samples1, value1)\n",
    "\n",
    "#     samples2 = int(remove_everything(dot_data.split(\";\")[2].split(\"\\\\n\")[1]))\n",
    "#     value2 = round(float(remove_everything(dot_data.split(\";\")[2].split(\"\\\\n\")[2])))\n",
    "#     if samples2 >= significant_size:\n",
    "#         print(samples2, value2)\n",
    "\n",
    "#     samples3 = int(remove_everything(dot_data.split(\";\")[4].split(\"\\\\n\")[1]))\n",
    "#     value3 = round(float(remove_everything(dot_data.split(\";\")[4].split(\"\\\\n\")[2])))\n",
    "#     if samples3 >= significant_size:\n",
    "#         print(samples3, value3)\n",
    "        \n",
    "#     if samples2 >= significant_size:\n",
    "        \n",
    "    \n"
   ]
  }
 ],
 "metadata": {
  "kernelspec": {
   "display_name": "commons",
   "language": "python",
   "name": "commons"
  },
  "language_info": {
   "codemirror_mode": {
    "name": "ipython",
    "version": 3
   },
   "file_extension": ".py",
   "mimetype": "text/x-python",
   "name": "python",
   "nbconvert_exporter": "python",
   "pygments_lexer": "ipython3",
   "version": "3.6.5"
  },
  "toc": {
   "base_numbering": 1,
   "nav_menu": {},
   "number_sections": true,
   "sideBar": true,
   "skip_h1_title": false,
   "title_cell": "Table of Contents",
   "title_sidebar": "Contents",
   "toc_cell": false,
   "toc_position": {},
   "toc_section_display": true,
   "toc_window_display": false
  }
 },
 "nbformat": 4,
 "nbformat_minor": 2
}
